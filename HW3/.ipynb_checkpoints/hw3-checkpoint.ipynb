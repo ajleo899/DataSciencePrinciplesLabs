{
 "cells": [
  {
   "cell_type": "markdown",
   "metadata": {
    "colab_type": "text",
    "id": "6oyDbv0ZQEi0"
   },
   "source": [
    "\n",
    "# EE 461P: Data Science Principles\n",
    "# Assignment 3\n",
    "## Total points: 65\n",
    "## Due: Tuesday, March 10th, submitted via Canvas by 11:59 pm\n",
    "\n",
    "Your homework should be written in a **Jupyter notebook**. You may work in groups of two if you wish. Your partner needs to be from the same section. Only one student per team needs to submit the assignment on Canvas.  But be sure to include name and UTEID for both students.  Homework groups will be created and managed through Canvas, so please do not arbitrarily change your homework group. If you do change, let the TA know. \n",
    "\n",
    "Please ensure that the notebook you have uploaded on Canvas is the correct one, you could download the notebook from Canvas to double check that you have submitted the correct version on your notebook.\n",
    "\n",
    "Also, please make sure your code runs and the graphics (and anything else) are displayed in your notebook before submitting. (%matplotlib inline)"
   ]
  },
  {
   "cell_type": "markdown",
   "metadata": {
    "colab_type": "text",
    "id": "l2KPQqiuQO0v"
   },
   "source": [
    "### Name(s)\n",
    "1. Adit Jain (aj27923)\n",
    "2. Blake Adams (baa2326)"
   ]
  },
  {
   "cell_type": "markdown",
   "metadata": {
    "colab_type": "text",
    "id": "WLbp0FO_5NOl"
   },
   "source": [
    "# Question 1 - Regression using MLP (30 pts)\n",
    "\n",
    "We will use the same dataset used in Homework 1 and try to design a MLP model for the same. \n",
    "\n",
    "Use the following code below to import the dataset."
   ]
  },
  {
   "cell_type": "code",
   "execution_count": 1,
   "metadata": {
    "colab": {},
    "colab_type": "code",
    "id": "Dt1dyCWO5RmM"
   },
   "outputs": [],
   "source": [
    "import numpy as np\n",
    "import pandas as pd\n",
    "import random\n",
    "import matplotlib.pyplot as plt\n",
    "import seaborn as sns\n",
    "from sklearn.metrics import mean_absolute_error, mean_squared_error\n",
    "from sklearn.neural_network import MLPRegressor\n",
    "from sklearn.model_selection import train_test_split\n",
    "import warnings\n",
    "warnings.filterwarnings(\"ignore\")\n",
    "\n",
    "random_num = 42"
   ]
  },
  {
   "cell_type": "code",
   "execution_count": 2,
   "metadata": {
    "colab": {},
    "colab_type": "code",
    "id": "mz49kWbD5Tmq"
   },
   "outputs": [],
   "source": [
    "df = pd.read_csv('train.csv')\n",
    "df = df.replace([np.inf, -np.inf], np.nan)\n",
    "df = df.fillna(0)\n",
    "X = df.drop(['SalePrice'], axis=1)\n",
    "Y = df['SalePrice']"
   ]
  },
  {
   "cell_type": "markdown",
   "metadata": {
    "colab_type": "text",
    "id": "oM3TM2g85XPH"
   },
   "source": [
    "For the below questions, use seed for random number as 42. You will need this seed for all instances of `train_test_split()` and `MLPRegressor()`."
   ]
  },
  {
   "cell_type": "markdown",
   "metadata": {
    "colab_type": "text",
    "id": "hWK6Y1Eh5Zvq"
   },
   "source": [
    "a. **(4 pts)** Using Multi-layer Perceptron regressor, fit a regression model with `alpha=0` on all the feature variables using the entire dataset. Report the total of number of weights present in the weight matrix (obtained using `model.coefs_`) and evaluate the model using mean squared error (MSE). An example is shown in [here](https://scikit-learn.org/stable/modules/generated/sklearn.neural_network.MLPRegressor.html#sklearn.neural_network.MLPRegressor)."
   ]
  },
  {
   "cell_type": "code",
   "execution_count": 3,
   "metadata": {},
   "outputs": [
    {
     "name": "stdout",
     "output_type": "stream",
     "text": [
      "Number of weights in MLPRegressor weight matrix: 2\n",
      "MSE of model: 2355207058.342209\n"
     ]
    }
   ],
   "source": [
    "model = MLPRegressor(alpha=0, random_state=42)\n",
    "model.fit(X, Y)\n",
    "print(\"Number of weights in MLPRegressor weight matrix: \" + str(len(model.coefs_)))\n",
    "\n",
    "preds = model.predict(X)\n",
    "print(\"MSE of model: \" + str(mean_squared_error(Y, preds)))"
   ]
  },
  {
   "cell_type": "markdown",
   "metadata": {},
   "source": [
    "b. **(6 pts)** Split the data into a training set and a test set, using the train_test_split with `test_size = 0.25` and `random_state = 42`. Fit an MLP using the training set with `alpha=0` and `max_iter=1000`. Evaluate the trained model using the training set and the test set, respectively. Compare the two MSE values thus obtained. Give one reason behind the change in loss value."
   ]
  },
  {
   "cell_type": "code",
   "execution_count": 4,
   "metadata": {},
   "outputs": [
    {
     "name": "stdout",
     "output_type": "stream",
     "text": [
      "MSE on training data: 2200124929.2119737\n",
      "MSE on test data: 1866181108.1068006\n",
      "\n",
      "One reasonable explanation for the decrease in MSE between the training set and the test set could be that the training set had 'hard' cases to learn or the test set had 'easy' cases to predict.\n"
     ]
    }
   ],
   "source": [
    "x_train, x_test, y_train, y_test = train_test_split(X, Y, test_size=0.25, random_state=42)\n",
    "model = MLPRegressor(alpha=0, max_iter=1000, random_state=42)\n",
    "model.fit(x_train, y_train)\n",
    "preds1 = model.predict(x_train)\n",
    "preds2 = model.predict(x_test)\n",
    "trainMSE = mean_squared_error(y_train, preds1)\n",
    "testMSE = mean_squared_error(y_test, preds2)\n",
    "print(\"MSE on training data: \" + str(trainMSE))\n",
    "print(\"MSE on test data: \" + str(testMSE))\n",
    "print(\"\\nOne reasonable explanation for the decrease in MSE between the training set and the test set could be that the training set had 'hard' cases to learn or the test set had 'easy' cases to predict.\")"
   ]
  },
  {
   "cell_type": "markdown",
   "metadata": {},
   "source": [
    "c. **(5 pts)** Calculate the pearson correlation matrix of the independent variables in the training set. Show the correlation matrix as a [heatmap](https://seaborn.pydata.org/generated/seaborn.heatmap.html) without annotations. Report the two features that are most positively and negatively correlated (excluding the same features) from the correlation matrix. [Sample code](https://stackoverflow.com/a/41453817)"
   ]
  },
  {
   "cell_type": "code",
   "execution_count": 5,
   "metadata": {},
   "outputs": [
    {
     "name": "stdout",
     "output_type": "stream",
     "text": [
      "Correlation Matrix\n",
      "              MSSubClass  LotFrontage   LotArea  OverallQual  OverallCond  \\\n",
      "MSSubClass      1.000000    -0.215023 -0.139781     0.032628    -0.059316   \n",
      "LotFrontage    -0.215023     1.000000  0.100739     0.176561    -0.053457   \n",
      "LotArea        -0.139781     0.100739  1.000000     0.105806    -0.005636   \n",
      "OverallQual     0.032628     0.176561  0.105806     1.000000    -0.091932   \n",
      "OverallCond    -0.059316    -0.053457 -0.005636    -0.091932     1.000000   \n",
      "MasVnrArea      0.023573     0.105010  0.103321     0.407252    -0.125694   \n",
      "1stFlrSF       -0.251758     0.245181  0.299475     0.476224    -0.144203   \n",
      "2ndFlrSF        0.307886     0.042549  0.050986     0.295493     0.028942   \n",
      "GrLivArea       0.074853     0.220347  0.263116     0.593007    -0.079686   \n",
      "FullBath        0.131608     0.120548  0.126031     0.550600    -0.194149   \n",
      "HalfBath        0.177354    -0.012952  0.014259     0.273458    -0.060769   \n",
      "BedroomAbvGr   -0.023438     0.144494  0.119690     0.101676     0.012980   \n",
      "KitchenAbvGr    0.281721     0.034425 -0.017784    -0.183882    -0.087001   \n",
      "TotRmsAbvGrd    0.040380     0.221396  0.190015     0.427452    -0.057583   \n",
      "Fireplaces     -0.045569     0.044018  0.271364     0.396765    -0.023820   \n",
      "GarageCars     -0.040110     0.165229  0.154871     0.600671    -0.185758   \n",
      "GarageArea     -0.098672     0.201473  0.180403     0.562022    -0.151521   \n",
      "WoodDeckSF     -0.012579    -0.016780  0.171698     0.238923    -0.003334   \n",
      "OpenPorchSF    -0.006100     0.069605  0.084774     0.308819    -0.032589   \n",
      "\n",
      "              MasVnrArea  1stFlrSF  2ndFlrSF  GrLivArea  FullBath  HalfBath  \\\n",
      "MSSubClass      0.023573 -0.251758  0.307886   0.074853  0.131608  0.177354   \n",
      "LotFrontage     0.105010  0.245181  0.042549   0.220347  0.120548 -0.012952   \n",
      "LotArea         0.103321  0.299475  0.050986   0.263116  0.126031  0.014259   \n",
      "OverallQual     0.407252  0.476224  0.295493   0.593007  0.550600  0.273458   \n",
      "OverallCond    -0.125694 -0.144203  0.028942  -0.079686 -0.194149 -0.060769   \n",
      "MasVnrArea      1.000000  0.339850  0.173800   0.388052  0.272999  0.199108   \n",
      "1stFlrSF        0.339850  1.000000 -0.202646   0.566024  0.380637 -0.119916   \n",
      "2ndFlrSF        0.173800 -0.202646  1.000000   0.687501  0.421378  0.609707   \n",
      "GrLivArea       0.388052  0.566024  0.687501   1.000000  0.630012  0.415772   \n",
      "FullBath        0.272999  0.380637  0.421378   0.630012  1.000000  0.136381   \n",
      "HalfBath        0.199108 -0.119916  0.609707   0.415772  0.136381  1.000000   \n",
      "BedroomAbvGr    0.102775  0.127401  0.502901   0.521270  0.363252  0.226651   \n",
      "KitchenAbvGr   -0.038450  0.068101  0.059306   0.100063  0.133115 -0.068263   \n",
      "TotRmsAbvGrd    0.279568  0.409516  0.616423   0.825489  0.554784  0.343415   \n",
      "Fireplaces      0.247015  0.410531  0.194561   0.461679  0.243671  0.203649   \n",
      "GarageCars      0.361945  0.439317  0.183926   0.467247  0.469672  0.219178   \n",
      "GarageArea      0.370884  0.489782  0.138347   0.468997  0.405656  0.163549   \n",
      "WoodDeckSF      0.159991  0.235459  0.092165   0.247433  0.187703  0.108080   \n",
      "OpenPorchSF     0.122528  0.211671  0.208026   0.330224  0.259977  0.199740   \n",
      "\n",
      "              BedroomAbvGr  KitchenAbvGr  TotRmsAbvGrd  Fireplaces  \\\n",
      "MSSubClass       -0.023438      0.281721      0.040380   -0.045569   \n",
      "LotFrontage       0.144494      0.034425      0.221396    0.044018   \n",
      "LotArea           0.119690     -0.017784      0.190015    0.271364   \n",
      "OverallQual       0.101676     -0.183882      0.427452    0.396765   \n",
      "OverallCond       0.012980     -0.087001     -0.057583   -0.023820   \n",
      "MasVnrArea        0.102775     -0.038450      0.279568    0.247015   \n",
      "1stFlrSF          0.127401      0.068101      0.409516    0.410531   \n",
      "2ndFlrSF          0.502901      0.059306      0.616423    0.194561   \n",
      "GrLivArea         0.521270      0.100063      0.825489    0.461679   \n",
      "FullBath          0.363252      0.133115      0.554784    0.243671   \n",
      "HalfBath          0.226651     -0.068263      0.343415    0.203649   \n",
      "BedroomAbvGr      1.000000      0.198597      0.676620    0.107570   \n",
      "KitchenAbvGr      0.198597      1.000000      0.256045   -0.123936   \n",
      "TotRmsAbvGrd      0.676620      0.256045      1.000000    0.326114   \n",
      "Fireplaces        0.107570     -0.123936      0.326114    1.000000   \n",
      "GarageCars        0.086106     -0.050634      0.362289    0.300789   \n",
      "GarageArea        0.065253     -0.064433      0.337822    0.269141   \n",
      "WoodDeckSF        0.046854     -0.090130      0.165984    0.200019   \n",
      "OpenPorchSF       0.093810     -0.070091      0.234192    0.169405   \n",
      "\n",
      "              GarageCars  GarageArea  WoodDeckSF  OpenPorchSF  \n",
      "MSSubClass     -0.040110   -0.098672   -0.012579    -0.006100  \n",
      "LotFrontage     0.165229    0.201473   -0.016780     0.069605  \n",
      "LotArea         0.154871    0.180403    0.171698     0.084774  \n",
      "OverallQual     0.600671    0.562022    0.238923     0.308819  \n",
      "OverallCond    -0.185758   -0.151521   -0.003334    -0.032589  \n",
      "MasVnrArea      0.361945    0.370884    0.159991     0.122528  \n",
      "1stFlrSF        0.439317    0.489782    0.235459     0.211671  \n",
      "2ndFlrSF        0.183926    0.138347    0.092165     0.208026  \n",
      "GrLivArea       0.467247    0.468997    0.247433     0.330224  \n",
      "FullBath        0.469672    0.405656    0.187703     0.259977  \n",
      "HalfBath        0.219178    0.163549    0.108080     0.199740  \n",
      "BedroomAbvGr    0.086106    0.065253    0.046854     0.093810  \n",
      "KitchenAbvGr   -0.050634   -0.064433   -0.090130    -0.070091  \n",
      "TotRmsAbvGrd    0.362289    0.337822    0.165984     0.234192  \n",
      "Fireplaces      0.300789    0.269141    0.200019     0.169405  \n",
      "GarageCars      1.000000    0.882475    0.226342     0.213569  \n",
      "GarageArea      0.882475    1.000000    0.224666     0.241435  \n",
      "WoodDeckSF      0.226342    0.224666    1.000000     0.058661  \n",
      "OpenPorchSF     0.213569    0.241435    0.058661     1.000000  \n"
     ]
    },
    {
     "data": {
      "text/plain": [
       "<matplotlib.axes._subplots.AxesSubplot at 0x1a1a572810>"
      ]
     },
     "execution_count": 5,
     "metadata": {},
     "output_type": "execute_result"
    },
    {
     "data": {
      "image/png": "[encoded data removed]",
      "text/plain": [
       "<Figure size 864x648 with 2 Axes>"
      ]
     },
     "metadata": {
      "needs_background": "light"
     },
     "output_type": "display_data"
    }
   ],
   "source": [
    "print(\"Correlation Matrix\")\n",
    "corrmat = X.corr()\n",
    "print(corrmat)\n",
    "plt.subplots(figsize=(12,9))\n",
    "sns.heatmap(corrmat, vmax=0.9, square=True)\n"
   ]
  },
  {
   "cell_type": "code",
   "execution_count": 6,
   "metadata": {},
   "outputs": [
    {
     "name": "stdout",
     "output_type": "stream",
     "text": [
      "\n",
      "Top Absolute Correlations\n",
      "GarageCars    GarageArea      0.882475\n",
      "GrLivArea     TotRmsAbvGrd    0.825489\n",
      "2ndFlrSF      GrLivArea       0.687501\n",
      "BedroomAbvGr  TotRmsAbvGrd    0.676620\n",
      "dtype: float64\n",
      "\n",
      "Top two features that are positively correlated: GarageCars and GarageArea (pearson correlation = 0.882475)\n",
      "Top two features that are negatively correlated: MSSubClass and 1stFlrSF(pearson correlation = -0.251758)\n"
     ]
    }
   ],
   "source": [
    "def get_redundant_pairs(df):\n",
    "    '''Get diagonal and lower triangular pairs of correlation matrix'''\n",
    "    pairs_to_drop = set()\n",
    "    cols = df.columns\n",
    "    for i in range(0, df.shape[1]):\n",
    "        for j in range(0, i+1):\n",
    "            pairs_to_drop.add((cols[i], cols[j]))\n",
    "    return pairs_to_drop\n",
    "\n",
    "def get_top_abs_correlations(df, n=5):\n",
    "    au_corr = df.corr().abs().unstack()\n",
    "    labels_to_drop = get_redundant_pairs(df)\n",
    "    au_corr = au_corr.drop(labels=labels_to_drop).sort_values(ascending=False)\n",
    "    return au_corr[0:n]\n",
    "\n",
    "print(\"\\nTop Absolute Correlations\")\n",
    "print(get_top_abs_correlations(X, 4))\n",
    "print(\"\\nTop two features that are positively correlated: GarageCars and GarageArea (pearson correlation = 0.882475)\")\n",
    "print(\"Top two features that are negatively correlated: MSSubClass and 1stFlrSF(pearson correlation = -0.251758)\")"
   ]
  },
  {
   "cell_type": "markdown",
   "metadata": {},
   "source": [
    "d. **(6 pts)** Run MLPRegressor like part (a) but this time, use different values for alpha, which is the L2 penalty (regularization term) parameter. Take at least 10 values of alpha within the range of [0, 0.001]. Plot the MSE for various values of alpha. Explain the value of alpha that gives the minimum MSE. What does this mean?."
   ]
  },
  {
   "cell_type": "code",
   "execution_count": 7,
   "metadata": {},
   "outputs": [
    {
     "data": {
      "image/png": "[encoded data removed]",
      "text/plain": [
       "<Figure size 432x288 with 1 Axes>"
      ]
     },
     "metadata": {
      "needs_background": "light"
     },
     "output_type": "display_data"
    }
   ],
   "source": [
    "# L2 regularization parameter testing (ridge regularization)\n",
    "alphas = np.arange(0,0.0011, 0.0001)\n",
    "mse = []\n",
    "for alpha in alphas:\n",
    "    model = MLPRegressor(alpha=alpha, random_state=42)\n",
    "    model.fit(x_train,y_train)\n",
    "    preds = model.predict(x_test)\n",
    "    MSE = mean_squared_error(y_test, preds)\n",
    "    mse.append(MSE)\n",
    "    \n",
    "plt.scatter(x=alphas, y=mse)\n",
    "plt.xlabel(\"Alpha\")\n",
    "plt.ylabel(\"MSE\")\n",
    "plt.title(\"Effect of L2 regularization on MSE for MLPRegressor\")\n",
    "plt.show()"
   ]
  },
  {
   "cell_type": "code",
   "execution_count": 8,
   "metadata": {},
   "outputs": [
    {
     "name": "stdout",
     "output_type": "stream",
     "text": [
      "Smallest MSE = 2198368946.3067613 with alpha = 0.0005\n",
      "\n",
      "In L2 Regularization, the regularization term is the sum of of sqaures of all the feature weights. This type of regularization punishes high weights in the model but does not make them zero. This value of alpha, which is part of the regularization term, results in the lowest MSE score within the hyperparameter values we tried for our model [0, 0.001]. \n"
     ]
    }
   ],
   "source": [
    "minAlpha = min(mse)\n",
    "chosenAlpha = alphas[mse.index(minAlpha)]\n",
    "print(\"Smallest MSE = \" + str(minAlpha) + \" with alpha = \" + str(chosenAlpha))\n",
    "print(\"\\nIn L2 Regularization, the regularization term is the sum of of sqaures of all the feature weights. This type of regularization punishes high weights in the model but does not make them zero. This value of alpha, which is part of the regularization term, results in the lowest MSE score within the hyperparameter values we tried for our model [0, 0.001]. \")\n"
   ]
  },
  {
   "cell_type": "markdown",
   "metadata": {
    "colab_type": "text",
    "id": "JkUDUJkf4wzt"
   },
   "source": [
    "# Question 2 - Decision Tree Classifier (20 pts)\n",
    "**Customer Eligibility for Deposits**\n",
    "\n",
    "Predict if a customer will subscribe (yes/no) to a fixed deposit, by building a classification model using Decision Tree."
   ]
  },
  {
   "cell_type": "code",
   "execution_count": 71,
   "metadata": {
    "colab": {},
    "colab_type": "code",
    "id": "4ubGiNvt40ty"
   },
   "outputs": [],
   "source": [
    "import pandas as pd\n",
    "import numpy as np\n",
    "import matplotlib.pyplot as plt\n",
    "import seaborn as sns\n",
    "from sklearn.cluster import KMeans\n",
    "from sklearn import datasets\n",
    "from io import StringIO\n",
    "from sklearn.tree import export_graphviz\n",
    "from sklearn.model_selection import train_test_split\n",
    "from sklearn import tree\n",
    "from sklearn import metrics\n",
    "from sklearn.metrics import roc_auc_score, accuracy_score, roc_curve, auc\n",
    "%matplotlib inline"
   ]
  },
  {
   "cell_type": "code",
   "execution_count": 35,
   "metadata": {
    "colab": {
     "base_uri": "https://localhost:8080/",
     "height": 206
    },
    "colab_type": "code",
    "id": "S_1II-W841OG",
    "outputId": "dc7e0f5e-fda9-40c4-e7e7-b31032a9afdc"
   },
   "outputs": [
    {
     "data": {
      "text/html": [
       "<div>\n",
       "<style scoped>\n",
       "    .dataframe tbody tr th:only-of-type {\n",
       "        vertical-align: middle;\n",
       "    }\n",
       "\n",
       "    .dataframe tbody tr th {\n",
       "        vertical-align: top;\n",
       "    }\n",
       "\n",
       "    .dataframe thead th {\n",
       "        text-align: right;\n",
       "    }\n",
       "</style>\n",
       "<table border=\"1\" class=\"dataframe\">\n",
       "  <thead>\n",
       "    <tr style=\"text-align: right;\">\n",
       "      <th></th>\n",
       "      <th>age</th>\n",
       "      <th>job</th>\n",
       "      <th>marital</th>\n",
       "      <th>education</th>\n",
       "      <th>default</th>\n",
       "      <th>balance</th>\n",
       "      <th>housing</th>\n",
       "      <th>loan</th>\n",
       "      <th>contact</th>\n",
       "      <th>day</th>\n",
       "      <th>month</th>\n",
       "      <th>duration</th>\n",
       "      <th>campaign</th>\n",
       "      <th>pdays</th>\n",
       "      <th>previous</th>\n",
       "      <th>poutcome</th>\n",
       "      <th>deposit</th>\n",
       "    </tr>\n",
       "  </thead>\n",
       "  <tbody>\n",
       "    <tr>\n",
       "      <td>0</td>\n",
       "      <td>59</td>\n",
       "      <td>admin.</td>\n",
       "      <td>married</td>\n",
       "      <td>secondary</td>\n",
       "      <td>no</td>\n",
       "      <td>2343</td>\n",
       "      <td>yes</td>\n",
       "      <td>no</td>\n",
       "      <td>unknown</td>\n",
       "      <td>5</td>\n",
       "      <td>may</td>\n",
       "      <td>1042</td>\n",
       "      <td>1</td>\n",
       "      <td>-1</td>\n",
       "      <td>0</td>\n",
       "      <td>unknown</td>\n",
       "      <td>yes</td>\n",
       "    </tr>\n",
       "    <tr>\n",
       "      <td>1</td>\n",
       "      <td>56</td>\n",
       "      <td>admin.</td>\n",
       "      <td>married</td>\n",
       "      <td>secondary</td>\n",
       "      <td>no</td>\n",
       "      <td>45</td>\n",
       "      <td>no</td>\n",
       "      <td>no</td>\n",
       "      <td>unknown</td>\n",
       "      <td>5</td>\n",
       "      <td>may</td>\n",
       "      <td>1467</td>\n",
       "      <td>1</td>\n",
       "      <td>-1</td>\n",
       "      <td>0</td>\n",
       "      <td>unknown</td>\n",
       "      <td>yes</td>\n",
       "    </tr>\n",
       "    <tr>\n",
       "      <td>2</td>\n",
       "      <td>41</td>\n",
       "      <td>technician</td>\n",
       "      <td>married</td>\n",
       "      <td>secondary</td>\n",
       "      <td>no</td>\n",
       "      <td>1270</td>\n",
       "      <td>yes</td>\n",
       "      <td>no</td>\n",
       "      <td>unknown</td>\n",
       "      <td>5</td>\n",
       "      <td>may</td>\n",
       "      <td>1389</td>\n",
       "      <td>1</td>\n",
       "      <td>-1</td>\n",
       "      <td>0</td>\n",
       "      <td>unknown</td>\n",
       "      <td>yes</td>\n",
       "    </tr>\n",
       "    <tr>\n",
       "      <td>3</td>\n",
       "      <td>55</td>\n",
       "      <td>services</td>\n",
       "      <td>married</td>\n",
       "      <td>secondary</td>\n",
       "      <td>no</td>\n",
       "      <td>2476</td>\n",
       "      <td>yes</td>\n",
       "      <td>no</td>\n",
       "      <td>unknown</td>\n",
       "      <td>5</td>\n",
       "      <td>may</td>\n",
       "      <td>579</td>\n",
       "      <td>1</td>\n",
       "      <td>-1</td>\n",
       "      <td>0</td>\n",
       "      <td>unknown</td>\n",
       "      <td>yes</td>\n",
       "    </tr>\n",
       "    <tr>\n",
       "      <td>4</td>\n",
       "      <td>54</td>\n",
       "      <td>admin.</td>\n",
       "      <td>married</td>\n",
       "      <td>tertiary</td>\n",
       "      <td>no</td>\n",
       "      <td>184</td>\n",
       "      <td>no</td>\n",
       "      <td>no</td>\n",
       "      <td>unknown</td>\n",
       "      <td>5</td>\n",
       "      <td>may</td>\n",
       "      <td>673</td>\n",
       "      <td>2</td>\n",
       "      <td>-1</td>\n",
       "      <td>0</td>\n",
       "      <td>unknown</td>\n",
       "      <td>yes</td>\n",
       "    </tr>\n",
       "  </tbody>\n",
       "</table>\n",
       "</div>"
      ],
      "text/plain": [
       "   age         job  marital  education default  balance housing loan  contact  \\\n",
       "0   59      admin.  married  secondary      no     2343     yes   no  unknown   \n",
       "1   56      admin.  married  secondary      no       45      no   no  unknown   \n",
       "2   41  technician  married  secondary      no     1270     yes   no  unknown   \n",
       "3   55    services  married  secondary      no     2476     yes   no  unknown   \n",
       "4   54      admin.  married   tertiary      no      184      no   no  unknown   \n",
       "\n",
       "   day month  duration  campaign  pdays  previous poutcome deposit  \n",
       "0    5   may      1042         1     -1         0  unknown     yes  \n",
       "1    5   may      1467         1     -1         0  unknown     yes  \n",
       "2    5   may      1389         1     -1         0  unknown     yes  \n",
       "3    5   may       579         1     -1         0  unknown     yes  \n",
       "4    5   may       673         2     -1         0  unknown     yes  "
      ]
     },
     "execution_count": 35,
     "metadata": {},
     "output_type": "execute_result"
    }
   ],
   "source": [
    "# Loading the data file\n",
    "bank=pd.read_csv('bank.csv')\n",
    "bank.head()"
   ]
  },
  {
   "cell_type": "markdown",
   "metadata": {
    "colab_type": "text",
    "id": "mlI7BEw2448s"
   },
   "source": [
    "Input variables:\n",
    "# bank client data:\n",
    "1 - age (numeric)\n",
    "\n",
    "2 - job : type of job (categorical: 'admin.','blue-collar','entrepreneur','housemaid','management','retired','self-employed','services','student','technician','unemployed','unknown')\n",
    "\n",
    "3 - marital : marital status (categorical: 'divorced','married','single'; note: 'divorced' means divorced or widowed)\n",
    "\n",
    "4 - education (categorical: 'primary', 'secondary','tertiary')\n",
    "\n",
    "5 - default: has credit in default? (categorical: 'no','yes','unknown')\n",
    "\n",
    "6 - balance: account balance\n",
    "\n",
    "7 - housing: has housing loan? (categorical: 'no','yes','unknown')\n",
    "\n",
    "8 - loan: has personal loan? (categorical: 'no','yes','unknown')\n",
    "\n",
    "# related with the last contact of the current campaign:\n",
    "9 - contact: contact communication type (categorical: 'cellular','telephone')\n",
    "\n",
    "10 - day_of_month : 1,2....31\n",
    "\n",
    "11 - month: last contact month of year (categorical: 'jan', 'feb', 'mar', ..., 'nov', 'dec')\n",
    "\n",
    "12 - duration: last contact duration, in seconds (numeric). Important note: this attribute highly affects the output target (e.g., if duration=0 then y='no'). Yet, the duration is not known before a call is performed. Also, after the end of the call y is obviously known. Thus, this input should only be included for benchmark purposes and should be discarded if the intention is to have a realistic predictive model.\n",
    "# other attributes:\n",
    "13 - campaign: number of contacts performed during this campaign and for this client (numeric, includes last contact)\n",
    "\n",
    "14 - pdays: number of days that passed by after the client was last contacted from a previous campaign (numeric; 10000 means client was not previously contacted)\n",
    "\n",
    "15 - previous: number of contacts performed before this campaign and for this client (numeric)\n",
    "\n",
    "16 - poutcome: outcome of the previous marketing campaign (categorical: 'failure','other','success','unknown')\n",
    "\n",
    "Output variable (desired target):\n",
    "17 - y - has the client subscribed a term deposit? (binary: 'yes','no')"
   ]
  },
  {
   "cell_type": "markdown",
   "metadata": {
    "colab_type": "text",
    "id": "XurVpT-ssmRI"
   },
   "source": [
    "**All the pre-processing is done where the categorical variables are converted to numeric values and unnecessary columns are dropped.**"
   ]
  },
  {
   "cell_type": "code",
   "execution_count": 36,
   "metadata": {
    "colab": {},
    "colab_type": "code",
    "id": "Xu3KThGNssC8"
   },
   "outputs": [],
   "source": [
    "# Make a copy for parsing\n",
    "bank_data = bank.copy()"
   ]
  },
  {
   "cell_type": "code",
   "execution_count": 37,
   "metadata": {
    "colab": {},
    "colab_type": "code",
    "id": "deB1ykE4ss4z"
   },
   "outputs": [],
   "source": [
    "# Drop 'contact', as every participant has been contacted. \n",
    "bank_data.drop('contact', axis=1, inplace=True)\n",
    "# Drop 'month' and 'day' as they don't have any intrinsic meaning\n",
    "bank_data.drop('month', axis=1, inplace=True)\n",
    "bank_data.drop('day', axis=1, inplace=True)"
   ]
  },
  {
   "cell_type": "code",
   "execution_count": 38,
   "metadata": {
    "colab": {},
    "colab_type": "code",
    "id": "nxUjyUzJ45aM"
   },
   "outputs": [],
   "source": [
    "#Convert categorical values to numeric values\n",
    "# values for \"default\" : yes/no\n",
    "bank_data[\"default\"]\n",
    "bank_data['default_cat'] = bank_data['default'].map( {'yes':1, 'no':0} )\n",
    "bank_data.drop('default', axis=1,inplace = True)\n",
    "# values for \"housing\" : yes/no\n",
    "bank_data[\"housing_cat\"]=bank_data['housing'].map({'yes':1, 'no':0})\n",
    "bank_data.drop('housing', axis=1,inplace = True)\n",
    "# values for \"loan\" : yes/no\n",
    "bank_data[\"loan_cat\"] = bank_data['loan'].map({'yes':1, 'no':0})\n",
    "bank_data.drop('loan', axis=1, inplace=True)\n",
    "# values for \"deposit\" : yes/no\n",
    "bank_data[\"deposit_cat\"] = bank_data['deposit'].map({'yes':1, 'no':0})\n",
    "bank_data.drop('deposit', axis=1, inplace=True)\n",
    "\n",
    "# Convert categorical variables to dummies\n",
    "bank_data = pd.get_dummies(data=bank_data, columns = ['job', 'marital', 'education', 'poutcome'], \\\n",
    "                                   prefix = ['job', 'marital', 'education', 'poutcome'])"
   ]
  },
  {
   "cell_type": "code",
   "execution_count": 39,
   "metadata": {
    "colab": {},
    "colab_type": "code",
    "id": "9uf-31waszkH"
   },
   "outputs": [],
   "source": [
    "# Convert p_days to a probability value\n",
    "bank_data['recent_pdays'] = np.where(bank_data['pdays'], 1/bank_data.pdays, 1/bank_data.pdays)\n",
    "# Drop 'pdays'\n",
    "bank_data.drop('pdays', axis=1, inplace = True)"
   ]
  },
  {
   "cell_type": "code",
   "execution_count": 40,
   "metadata": {
    "colab": {
     "base_uri": "https://localhost:8080/",
     "height": 244
    },
    "colab_type": "code",
    "id": "zDbBqOAJ5D17",
    "outputId": "58b08a5c-374c-4f72-f531-56327d3cd802"
   },
   "outputs": [
    {
     "data": {
      "text/html": [
       "<div>\n",
       "<style scoped>\n",
       "    .dataframe tbody tr th:only-of-type {\n",
       "        vertical-align: middle;\n",
       "    }\n",
       "\n",
       "    .dataframe tbody tr th {\n",
       "        vertical-align: top;\n",
       "    }\n",
       "\n",
       "    .dataframe thead th {\n",
       "        text-align: right;\n",
       "    }\n",
       "</style>\n",
       "<table border=\"1\" class=\"dataframe\">\n",
       "  <thead>\n",
       "    <tr style=\"text-align: right;\">\n",
       "      <th></th>\n",
       "      <th>age</th>\n",
       "      <th>balance</th>\n",
       "      <th>duration</th>\n",
       "      <th>campaign</th>\n",
       "      <th>previous</th>\n",
       "      <th>default_cat</th>\n",
       "      <th>housing_cat</th>\n",
       "      <th>loan_cat</th>\n",
       "      <th>deposit_cat</th>\n",
       "      <th>job_admin.</th>\n",
       "      <th>...</th>\n",
       "      <th>marital_single</th>\n",
       "      <th>education_primary</th>\n",
       "      <th>education_secondary</th>\n",
       "      <th>education_tertiary</th>\n",
       "      <th>education_unknown</th>\n",
       "      <th>poutcome_failure</th>\n",
       "      <th>poutcome_other</th>\n",
       "      <th>poutcome_success</th>\n",
       "      <th>poutcome_unknown</th>\n",
       "      <th>recent_pdays</th>\n",
       "    </tr>\n",
       "  </thead>\n",
       "  <tbody>\n",
       "    <tr>\n",
       "      <td>0</td>\n",
       "      <td>59</td>\n",
       "      <td>2343</td>\n",
       "      <td>1042</td>\n",
       "      <td>1</td>\n",
       "      <td>0</td>\n",
       "      <td>0</td>\n",
       "      <td>1</td>\n",
       "      <td>0</td>\n",
       "      <td>1</td>\n",
       "      <td>1</td>\n",
       "      <td>...</td>\n",
       "      <td>0</td>\n",
       "      <td>0</td>\n",
       "      <td>1</td>\n",
       "      <td>0</td>\n",
       "      <td>0</td>\n",
       "      <td>0</td>\n",
       "      <td>0</td>\n",
       "      <td>0</td>\n",
       "      <td>1</td>\n",
       "      <td>-1.0</td>\n",
       "    </tr>\n",
       "    <tr>\n",
       "      <td>1</td>\n",
       "      <td>56</td>\n",
       "      <td>45</td>\n",
       "      <td>1467</td>\n",
       "      <td>1</td>\n",
       "      <td>0</td>\n",
       "      <td>0</td>\n",
       "      <td>0</td>\n",
       "      <td>0</td>\n",
       "      <td>1</td>\n",
       "      <td>1</td>\n",
       "      <td>...</td>\n",
       "      <td>0</td>\n",
       "      <td>0</td>\n",
       "      <td>1</td>\n",
       "      <td>0</td>\n",
       "      <td>0</td>\n",
       "      <td>0</td>\n",
       "      <td>0</td>\n",
       "      <td>0</td>\n",
       "      <td>1</td>\n",
       "      <td>-1.0</td>\n",
       "    </tr>\n",
       "    <tr>\n",
       "      <td>2</td>\n",
       "      <td>41</td>\n",
       "      <td>1270</td>\n",
       "      <td>1389</td>\n",
       "      <td>1</td>\n",
       "      <td>0</td>\n",
       "      <td>0</td>\n",
       "      <td>1</td>\n",
       "      <td>0</td>\n",
       "      <td>1</td>\n",
       "      <td>0</td>\n",
       "      <td>...</td>\n",
       "      <td>0</td>\n",
       "      <td>0</td>\n",
       "      <td>1</td>\n",
       "      <td>0</td>\n",
       "      <td>0</td>\n",
       "      <td>0</td>\n",
       "      <td>0</td>\n",
       "      <td>0</td>\n",
       "      <td>1</td>\n",
       "      <td>-1.0</td>\n",
       "    </tr>\n",
       "    <tr>\n",
       "      <td>3</td>\n",
       "      <td>55</td>\n",
       "      <td>2476</td>\n",
       "      <td>579</td>\n",
       "      <td>1</td>\n",
       "      <td>0</td>\n",
       "      <td>0</td>\n",
       "      <td>1</td>\n",
       "      <td>0</td>\n",
       "      <td>1</td>\n",
       "      <td>0</td>\n",
       "      <td>...</td>\n",
       "      <td>0</td>\n",
       "      <td>0</td>\n",
       "      <td>1</td>\n",
       "      <td>0</td>\n",
       "      <td>0</td>\n",
       "      <td>0</td>\n",
       "      <td>0</td>\n",
       "      <td>0</td>\n",
       "      <td>1</td>\n",
       "      <td>-1.0</td>\n",
       "    </tr>\n",
       "    <tr>\n",
       "      <td>4</td>\n",
       "      <td>54</td>\n",
       "      <td>184</td>\n",
       "      <td>673</td>\n",
       "      <td>2</td>\n",
       "      <td>0</td>\n",
       "      <td>0</td>\n",
       "      <td>0</td>\n",
       "      <td>0</td>\n",
       "      <td>1</td>\n",
       "      <td>1</td>\n",
       "      <td>...</td>\n",
       "      <td>0</td>\n",
       "      <td>0</td>\n",
       "      <td>0</td>\n",
       "      <td>1</td>\n",
       "      <td>0</td>\n",
       "      <td>0</td>\n",
       "      <td>0</td>\n",
       "      <td>0</td>\n",
       "      <td>1</td>\n",
       "      <td>-1.0</td>\n",
       "    </tr>\n",
       "  </tbody>\n",
       "</table>\n",
       "<p>5 rows × 33 columns</p>\n",
       "</div>"
      ],
      "text/plain": [
       "   age  balance  duration  campaign  previous  default_cat  housing_cat  \\\n",
       "0   59     2343      1042         1         0            0            1   \n",
       "1   56       45      1467         1         0            0            0   \n",
       "2   41     1270      1389         1         0            0            1   \n",
       "3   55     2476       579         1         0            0            1   \n",
       "4   54      184       673         2         0            0            0   \n",
       "\n",
       "   loan_cat  deposit_cat  job_admin.  ...  marital_single  education_primary  \\\n",
       "0         0            1           1  ...               0                  0   \n",
       "1         0            1           1  ...               0                  0   \n",
       "2         0            1           0  ...               0                  0   \n",
       "3         0            1           0  ...               0                  0   \n",
       "4         0            1           1  ...               0                  0   \n",
       "\n",
       "   education_secondary  education_tertiary  education_unknown  \\\n",
       "0                    1                   0                  0   \n",
       "1                    1                   0                  0   \n",
       "2                    1                   0                  0   \n",
       "3                    1                   0                  0   \n",
       "4                    0                   1                  0   \n",
       "\n",
       "   poutcome_failure  poutcome_other  poutcome_success  poutcome_unknown  \\\n",
       "0                 0               0                 0                 1   \n",
       "1                 0               0                 0                 1   \n",
       "2                 0               0                 0                 1   \n",
       "3                 0               0                 0                 1   \n",
       "4                 0               0                 0                 1   \n",
       "\n",
       "   recent_pdays  \n",
       "0          -1.0  \n",
       "1          -1.0  \n",
       "2          -1.0  \n",
       "3          -1.0  \n",
       "4          -1.0  \n",
       "\n",
       "[5 rows x 33 columns]"
      ]
     },
     "execution_count": 40,
     "metadata": {},
     "output_type": "execute_result"
    }
   ],
   "source": [
    "bank_data.head()"
   ]
  },
  {
   "cell_type": "code",
   "execution_count": 41,
   "metadata": {
    "colab": {},
    "colab_type": "code",
    "id": "trQaS_P85EbR"
   },
   "outputs": [],
   "source": [
    "# Splitting the data into training and test data with 80:20 ratio with random_state=50.\n",
    "# Building the data model\n",
    "# Train-Test split: 20% test data\n",
    "X = bank_data.drop('deposit_cat', 1)\n",
    "Y = bank_data.deposit_cat\n",
    "X_train, X_test, Y_train, Y_test = train_test_split(X, Y, test_size = 0.2, random_state = 50)"
   ]
  },
  {
   "cell_type": "markdown",
   "metadata": {},
   "source": [
    "a. **(8 pts)** Build a decision tree with depths 2,3,5,10 and max depth using gini and entropy criterion; report the train and test error."
   ]
  },
  {
   "cell_type": "code",
   "execution_count": 45,
   "metadata": {},
   "outputs": [
    {
     "name": "stdout",
     "output_type": "stream",
     "text": [
      "Gini Criterion Decision Trees:\n",
      "Decision Tree with depth 2 had a train error of 0.7929403108224367 and a test error of 0.7880265888143609\n",
      "Decision Tree with depth 3 had a train error of 0.833789236427303 and a test error of 0.8210522929434285\n",
      "Decision Tree with depth 5 had a train error of 0.8750137601062571 and a test error of 0.8522832923161061\n",
      "Decision Tree with depth 10 had a train error of 0.9391761796712669 and a test error of 0.8322282809760493\n",
      "Decision Tree with depth None had a train error of 1.0 and a test error of 0.7345686757065419\n",
      "\n",
      "Entropy Criterion Decision Trees:\n",
      "Decision Tree with depth 2 had a train error of 0.7893192646518719 and a test error of 0.7816745484083709\n",
      "Decision Tree with depth 3 had a train error of 0.8326772840015495 and a test error of 0.8222992970773215\n",
      "Decision Tree with depth 5 had a train error of 0.8750047544060011 and a test error of 0.8519997908925672\n",
      "Decision Tree with depth 10 had a train error of 0.9321629025522858 and a test error of 0.8387636925155625\n",
      "Decision Tree with depth None had a train error of 1.0 and a test error of 0.7304770062249675\n"
     ]
    }
   ],
   "source": [
    "depths = [2,3,5,10, None] # None is max depth\n",
    "trainError = []\n",
    "testError = []\n",
    "# gini criterion \n",
    "print(\"Gini Criterion Decision Trees:\")\n",
    "for depth in depths:\n",
    "    model = tree.DecisionTreeClassifier(max_depth=depth, criterion='gini')\n",
    "    model.fit(X_train, Y_train)\n",
    "    preds1 = model.predict_proba(X_train)\n",
    "    preds2 = model.predict_proba(X_test)\n",
    "    roctrain = roc_auc_score(Y_train,preds1[:, 1])\n",
    "    roctest = roc_auc_score(Y_test,preds2[:,1])\n",
    "    print(\"Decision Tree with depth \" + str(depth) + \" had a train error of \" + str(roctrain) + \" and a test error of \" + str(roctest))\n",
    "\n",
    "# entropy criterion\n",
    "print(\"\\nEntropy Criterion Decision Trees:\")\n",
    "for depth in depths:\n",
    "    model = tree.DecisionTreeClassifier(max_depth=depth, criterion='entropy')\n",
    "    model.fit(X_train, Y_train)\n",
    "    preds1 = model.predict_proba(X_train)\n",
    "    preds2 = model.predict_proba(X_test)\n",
    "    roctrain = roc_auc_score(Y_train,preds1[:, 1])\n",
    "    roctest = roc_auc_score(Y_test,preds2[:,1])\n",
    "    print(\"Decision Tree with depth \" + str(depth) + \" had a train error of \" + str(roctrain) + \" and a test error of \" + str(roctest))\n"
   ]
  },
  {
   "cell_type": "markdown",
   "metadata": {},
   "source": [
    "b. **(2 pts)** Explain how the train and test accuracy vary as we increase the depth of the tree."
   ]
  },
  {
   "cell_type": "markdown",
   "metadata": {},
   "source": [
    "As we increase the depth of the decision tree, training error will generally go down (in this case I used AUC to evaluate the model, hence a value closer to 1 is lower error). In the case of testing error, however, increasing the depth of the decision tree does increase the model's accuracy until the model begins to overfit on the training data and the AUC score begins to go down for the test data. "
   ]
  },
  {
   "cell_type": "markdown",
   "metadata": {
    "colab_type": "text",
    "id": "yTZH9d3K5Hvp"
   },
   "source": [
    "c. **(4 pts)** List the most important features for the tree with depth=2 and criterion=gini and plot the tree."
   ]
  },
  {
   "cell_type": "code",
   "execution_count": 58,
   "metadata": {},
   "outputs": [
    {
     "data": {
      "text/plain": [
       "[('age', 0.0),\n",
       " ('balance', 0.0),\n",
       " ('duration', 0.849306123902405),\n",
       " ('campaign', 0.0),\n",
       " ('previous', 0.0),\n",
       " ('default_cat', 0.0),\n",
       " ('housing_cat', 0.0),\n",
       " ('loan_cat', 0.0),\n",
       " ('job_admin.', 0.0),\n",
       " ('job_blue-collar', 0.0),\n",
       " ('job_entrepreneur', 0.0),\n",
       " ('job_housemaid', 0.0),\n",
       " ('job_management', 0.0),\n",
       " ('job_retired', 0.0),\n",
       " ('job_self-employed', 0.0),\n",
       " ('job_services', 0.0),\n",
       " ('job_student', 0.0),\n",
       " ('job_technician', 0.0),\n",
       " ('job_unemployed', 0.0),\n",
       " ('job_unknown', 0.0),\n",
       " ('marital_divorced', 0.0),\n",
       " ('marital_married', 0.0),\n",
       " ('marital_single', 0.0),\n",
       " ('education_primary', 0.0),\n",
       " ('education_secondary', 0.0),\n",
       " ('education_tertiary', 0.0),\n",
       " ('education_unknown', 0.0),\n",
       " ('poutcome_failure', 0.0),\n",
       " ('poutcome_other', 0.0),\n",
       " ('poutcome_success', 0.15069387609759496),\n",
       " ('poutcome_unknown', 0.0),\n",
       " ('recent_pdays', 0.0)]"
      ]
     },
     "execution_count": 58,
     "metadata": {},
     "output_type": "execute_result"
    }
   ],
   "source": [
    "d2model = tree.DecisionTreeClassifier(max_depth=2, criterion='gini')\n",
    "d2model.fit(X_train, Y_train)\n",
    "importances = d2model.feature_importances_\n",
    "list(zip(X.columns, model.feature_importances_))"
   ]
  },
  {
   "cell_type": "code",
   "execution_count": 59,
   "metadata": {},
   "outputs": [
    {
     "name": "stdout",
     "output_type": "stream",
     "text": [
      "The two most important features are duration (0.849306 feature_importance) and poutcome_sucess (0.150693876 feature_importance)\n"
     ]
    }
   ],
   "source": [
    "print(\"The two most important features are duration (0.849306 feature_importance) and poutcome_sucess (0.150693876 feature_importance)\")"
   ]
  },
  {
   "cell_type": "markdown",
   "metadata": {},
   "source": [
    "d. **(6 pts)** Report the accuracy and AUC for the test data and plot the ROC curve."
   ]
  },
  {
   "cell_type": "code",
   "execution_count": 66,
   "metadata": {},
   "outputs": [
    {
     "name": "stdout",
     "output_type": "stream",
     "text": [
      "AUC: 78.8027% \n",
      "Accuracy: 72.68% \n"
     ]
    }
   ],
   "source": [
    "testpreds = d2model.predict_proba(X_test)\n",
    "AUC = roc_auc_score(Y_test, testpreds[:,1])\n",
    "print(\"AUC: %.4f%% \" % (AUC *100))\n",
    "hardpreds = d2model.predict(X_test)\n",
    "accuracy = accuracy_score(Y_test, hardpreds)\n",
    "print(\"Accuracy: %.2f%% \" % (accuracy * 100.0))"
   ]
  },
  {
   "cell_type": "code",
   "execution_count": 72,
   "metadata": {},
   "outputs": [
    {
     "data": {
      "image/png": "[encoded data removed]",
      "text/plain": [
       "<Figure size 432x288 with 1 Axes>"
      ]
     },
     "metadata": {
      "needs_background": "light"
     },
     "output_type": "display_data"
    }
   ],
   "source": [
    "# plotting ROC curve\n",
    "lw = 2\n",
    "fpr, tpr, _ = roc_curve(Y_test, testpreds[:,1])\n",
    "roc_auc = auc(fpr, tpr)\n",
    "plt.plot(fpr, tpr, color='darkorange',\n",
    "         lw=lw, label='ROC curve (area = %0.2f)' % roc_auc)\n",
    "plt.plot([0, 1], [0, 1], color='navy', lw=lw, linestyle='--')\n",
    "plt.xlim([0.0, 1.0])\n",
    "plt.ylim([0.0, 1.05])\n",
    "plt.xlabel('False Positive Rate')\n",
    "plt.ylabel('True Positive Rate')\n",
    "plt.title('Receiver operating characteristic example')\n",
    "plt.legend(loc=\"lower right\")\n",
    "plt.show()"
   ]
  },
  {
   "cell_type": "markdown",
   "metadata": {
    "colab_type": "text",
    "id": "ucVu7A2k4jSP"
   },
   "source": [
    "# Question 3 - Bayes Decision Theory (10pts)\n",
    "\n",
    "a. (2pts) Explain what you understand by class-conditional likelihood, class priors, and posterior probability of a class given an input, and the relationship between them. Please define all symbols and equations used explicitly.\n",
    "\n",
    "b. (5pts) Suppose you want to learn a binary classifier to predict whether or not a customer will buy a TV. The class label is 1 if the customer buys and 2 if he/she does not. For each customer, you are given two features, $x_1$ is the salary per hour and $x_2$ is the age. Assume that the class conditional distribution $p(x_1,x_2|C)$ is Gaussian for both classes. The mean salary and age of the people who do buy a TV is 30 and 39 respectively and that of those who don't is 16 and 20. Also assume that covariances of these two groups are given by $I$ (for \"buy class\") and $4I$ respectively, where $I$ is the identity matrix. Further, your sales data suggests that only 1 in 5 people actually buy a TV. Mathematically derive the (optimal) Bayes decision boundary for this problem.\n",
    "\n",
    "c. (3pts) Write a script to sample 100 customers from class (C = 1) and correspondingly from class 2, under the assumed distribution and the estimated parameters and create a scatter plot. Plot the decision boundary you obtained in  part (b) on the same plot. (You can hardcode the co-efficient values for the deicision boundary)"
   ]
  },
  {
   "cell_type": "markdown",
   "metadata": {
    "colab_type": "text",
    "id": "qjVL_Zta4oNi"
   },
   "source": [
    "\n",
    "# Question 4 - Asymmetric Cost Function (5pts)\n",
    "\n",
    "Consider the loss matrix below specified for a certain 3-class problem:\n",
    "\n",
    "|       |       | $C_1$ |   $C_2$  | $C_3$ |\n",
    "|-------|-------|-------|:--------:|-------|\n",
    "|       | $C_1$ | 3     |     4    | 5     |\n",
    "| Truth | $C_2$ | 8     |     0    | 2     |\n",
    "|       | $C_3$ | -6    |     0    | -8    |\n",
    "|       |       |       | Decision |       |\n",
    "\n",
    "For what range of values of $P(C_1|x)$ will you declare x to belong to Class 1 if your goal is to minimize the expected loss rather than minimizing misclassification error? To make this problem simpler, assume that  $P(C_2|x) = P(C_3|x)$ for all x."
   ]
  },
  {
   "cell_type": "code",
   "execution_count": null,
   "metadata": {
    "colab": {},
    "colab_type": "code",
    "id": "cCZ-OB-r5aV3"
   },
   "outputs": [],
   "source": []
  }
 ],
 "metadata": {
  "colab": {
   "name": "hw3_final_questions",
   "provenance": []
  },
  "kernelspec": {
   "display_name": "Python 3",
   "language": "python",
   "name": "python3"
  },
  "language_info": {
   "codemirror_mode": {
    "name": "ipython",
    "version": 3
   },
   "file_extension": ".py",
   "mimetype": "text/x-python",
   "name": "python",
   "nbconvert_exporter": "python",
   "pygments_lexer": "ipython3",
   "version": "3.7.4"
  }
 },
 "nbformat": 4,
 "nbformat_minor": 1
}
