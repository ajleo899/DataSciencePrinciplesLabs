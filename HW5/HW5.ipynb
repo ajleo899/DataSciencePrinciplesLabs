{
 "cells": [
  {
   "cell_type": "markdown",
   "metadata": {
    "colab_type": "text",
    "id": "8rEZF5VB4ADM"
   },
   "source": [
    "# EE 461P: Data Science Principles\n",
    "# Assignment 5\n",
    "## Total points: 70\n",
    "## Due: Friday, April 24th, submitted via Canvas by 11:59 pm\n",
    "\n",
    "Your homework should be written in a **Jupyter notebook**. You may work in groups of two if you wish. Your partner needs to be from the same section. Only one student per team needs to submit the assignment on Canvas.  But be sure to include name and UTEID for both students.  Homework groups will be created and managed through Canvas, so please do not arbitrarily change your homework group. If you do change, let the TA know. \n",
    "\n",
    "Please ensure that the notebook you have uploaded on Canvas is the correct one, you could download the notebook from Canvas to double check that you have submitted the correct version on your notebook.\n",
    "\n",
    "Also, please make sure your code runs and the graphics (and anything else) are displayed in your notebook before submitting. (%matplotlib inline)"
   ]
  },
  {
   "cell_type": "code",
   "execution_count": 1,
   "metadata": {
    "colab": {},
    "colab_type": "code",
    "id": "A-ttVq8k4G5Y"
   },
   "outputs": [],
   "source": [
    "%matplotlib inline"
   ]
  },
  {
   "cell_type": "markdown",
   "metadata": {
    "colab_type": "text",
    "id": "3MDtM-6b4Dxv"
   },
   "source": [
    "### Name(s)\n",
    "1. Blake Adams (baa2326)\n",
    "2. Adit Jain (aj27923"
   ]
  },
  {
   "cell_type": "markdown",
   "metadata": {
    "colab_type": "text",
    "id": "y3KZj8qJ4JC0"
   },
   "source": [
    "The goal of this problem is to explore the effect of feature selection using  the following dataset (same as in HW 4) https://www.kaggle.com/wendykan/lending-club-loan-data\n",
    "\n",
    "Since the dataset is really huge, we will use only a certain set of features and samples to build our model. We will also use only two classes instead of all.\n",
    "\n",
    "The modified dataset with reduced number of samples has been prepared for your use. The file can be downloaded using the code below. You can also find it [here](https://drive.google.com/file/d/1Gv_N1rHLqDizxUck6l06BfniR30Pw0Zs/view?usp=sharing) in case you have a different environment and this code does not run."
   ]
  },
  {
   "cell_type": "code",
   "execution_count": 2,
   "metadata": {
    "colab": {
     "base_uri": "https://localhost:8080/",
     "height": 125
    },
    "colab_type": "code",
    "id": "i-6sWt6R4NAW",
    "outputId": "8ab468a5-3935-4943-e776-871cb60cb199"
   },
   "outputs": [
    {
     "name": "stdout",
     "output_type": "stream",
     "text": [
      "File already exists\n"
     ]
    }
   ],
   "source": [
    "%%bash\n",
    "ggID='1Gv_N1rHLqDizxUck6l06BfniR30Pw0Zs'  \n",
    "ggURL='https://drive.google.com/uc?export=download'  \n",
    "filename=\"$(curl -sc /tmp/gcokie \"${ggURL}&id=${ggID}\" | grep -o '=\"uc-name.*</span>' | sed 's/.*\">//;s/<.a> .*//')\"  \n",
    "getcode=\"$(awk '/_warning_/ {print $NF}' /tmp/gcokie)\"  \n",
    "\n",
    "if [ -e \"${filename}\" ]; then\n",
    "    echo 'File already exists'\n",
    "else\n",
    "    curl -Lb /tmp/gcokie \"${ggURL}&confirm=${getcode}&id=${ggID}\" -o \"${filename}\"  \n",
    "fi"
   ]
  },
  {
   "cell_type": "code",
   "execution_count": 3,
   "metadata": {
    "colab": {
     "base_uri": "https://localhost:8080/",
     "height": 73
    },
    "colab_type": "code",
    "id": "WrnqWBIl4O1D",
    "outputId": "90067b45-055b-4feb-e7e6-e67ef89d85fb"
   },
   "outputs": [
    {
     "name": "stderr",
     "output_type": "stream",
     "text": [
      "/Users/aditjain/opt/anaconda3/lib/python3.7/site-packages/IPython/core/interactiveshell.py:3058: DtypeWarning: Columns (123,124,125,128,129,130,133,139,140,141) have mixed types. Specify dtype option on import or set low_memory=False.\n",
      "  interactivity=interactivity, compiler=compiler, result=result)\n"
     ]
    }
   ],
   "source": [
    "import os, sys, re\n",
    "import time\n",
    "import numpy as np\n",
    "import pandas as pd\n",
    "from sklearn.model_selection import train_test_split\n",
    "from sklearn.preprocessing import MinMaxScaler\n",
    "from sklearn.ensemble import RandomForestClassifier\n",
    "from sklearn.metrics import classification_report, plot_roc_curve\n",
    "from sklearn.feature_selection import SelectKBest, chi2\n",
    "\n",
    "dataset = pd.read_csv('loan.csv')\n",
    "df = dataset.fillna(0)"
   ]
  },
  {
   "cell_type": "code",
   "execution_count": 4,
   "metadata": {
    "colab": {},
    "colab_type": "code",
    "id": "hd6VE0Ey4Rm7"
   },
   "outputs": [],
   "source": [
    "def LoanResult(status):\n",
    "    if (status == 'Fully Paid') or (status == 'Current'):\n",
    "        return 1\n",
    "    else:\n",
    "        return 0\n",
    "\n",
    "df['loan_status'] = df['loan_status'].apply(LoanResult)"
   ]
  },
  {
   "cell_type": "code",
   "execution_count": 5,
   "metadata": {
    "colab": {},
    "colab_type": "code",
    "id": "DyNuyKrQ4TOz"
   },
   "outputs": [],
   "source": [
    "df = df[['loan_amnt', 'funded_amnt', 'funded_amnt_inv', 'term', 'int_rate', 'installment', 'grade', 'sub_grade',\n",
    "             'emp_length', 'home_ownership','annual_inc', 'verification_status', 'loan_status',\n",
    "             'purpose','addr_state', 'dti','open_acc', 'pub_rec', 'revol_bal', 'revol_util', \n",
    "             'initial_list_status', 'recoveries','collection_recovery_fee', 'last_pymnt_d', 'last_pymnt_amnt',\n",
    "             'application_type', 'tot_coll_amt', 'tot_cur_bal', 'avg_cur_bal', 'chargeoff_within_12_mths',\n",
    "             'pub_rec_bankruptcies', 'tax_liens', 'debt_settlement_flag']]"
   ]
  },
  {
   "cell_type": "code",
   "execution_count": 6,
   "metadata": {
    "colab": {
     "base_uri": "https://localhost:8080/",
     "height": 309
    },
    "colab_type": "code",
    "id": "8R780Ht74U4o",
    "outputId": "2ad33259-9e7d-4ecd-a773-e69b2461901c"
   },
   "outputs": [
    {
     "data": {
      "text/html": [
       "<div>\n",
       "<style scoped>\n",
       "    .dataframe tbody tr th:only-of-type {\n",
       "        vertical-align: middle;\n",
       "    }\n",
       "\n",
       "    .dataframe tbody tr th {\n",
       "        vertical-align: top;\n",
       "    }\n",
       "\n",
       "    .dataframe thead th {\n",
       "        text-align: right;\n",
       "    }\n",
       "</style>\n",
       "<table border=\"1\" class=\"dataframe\">\n",
       "  <thead>\n",
       "    <tr style=\"text-align: right;\">\n",
       "      <th></th>\n",
       "      <th>loan_amnt</th>\n",
       "      <th>funded_amnt</th>\n",
       "      <th>funded_amnt_inv</th>\n",
       "      <th>term</th>\n",
       "      <th>int_rate</th>\n",
       "      <th>installment</th>\n",
       "      <th>grade</th>\n",
       "      <th>sub_grade</th>\n",
       "      <th>emp_length</th>\n",
       "      <th>home_ownership</th>\n",
       "      <th>...</th>\n",
       "      <th>last_pymnt_d</th>\n",
       "      <th>last_pymnt_amnt</th>\n",
       "      <th>application_type</th>\n",
       "      <th>tot_coll_amt</th>\n",
       "      <th>tot_cur_bal</th>\n",
       "      <th>avg_cur_bal</th>\n",
       "      <th>chargeoff_within_12_mths</th>\n",
       "      <th>pub_rec_bankruptcies</th>\n",
       "      <th>tax_liens</th>\n",
       "      <th>debt_settlement_flag</th>\n",
       "    </tr>\n",
       "  </thead>\n",
       "  <tbody>\n",
       "    <tr>\n",
       "      <td>0</td>\n",
       "      <td>2500</td>\n",
       "      <td>2500</td>\n",
       "      <td>2500.0</td>\n",
       "      <td>36 months</td>\n",
       "      <td>13.56</td>\n",
       "      <td>84.92</td>\n",
       "      <td>C</td>\n",
       "      <td>C1</td>\n",
       "      <td>10+ years</td>\n",
       "      <td>RENT</td>\n",
       "      <td>...</td>\n",
       "      <td>Feb-2019</td>\n",
       "      <td>84.92</td>\n",
       "      <td>Individual</td>\n",
       "      <td>0.0</td>\n",
       "      <td>16901.0</td>\n",
       "      <td>1878.0</td>\n",
       "      <td>0.0</td>\n",
       "      <td>1.0</td>\n",
       "      <td>0.0</td>\n",
       "      <td>N</td>\n",
       "    </tr>\n",
       "    <tr>\n",
       "      <td>1</td>\n",
       "      <td>30000</td>\n",
       "      <td>30000</td>\n",
       "      <td>30000.0</td>\n",
       "      <td>60 months</td>\n",
       "      <td>18.94</td>\n",
       "      <td>777.23</td>\n",
       "      <td>D</td>\n",
       "      <td>D2</td>\n",
       "      <td>10+ years</td>\n",
       "      <td>MORTGAGE</td>\n",
       "      <td>...</td>\n",
       "      <td>Feb-2019</td>\n",
       "      <td>777.23</td>\n",
       "      <td>Individual</td>\n",
       "      <td>1208.0</td>\n",
       "      <td>321915.0</td>\n",
       "      <td>24763.0</td>\n",
       "      <td>0.0</td>\n",
       "      <td>1.0</td>\n",
       "      <td>0.0</td>\n",
       "      <td>N</td>\n",
       "    </tr>\n",
       "    <tr>\n",
       "      <td>2</td>\n",
       "      <td>5000</td>\n",
       "      <td>5000</td>\n",
       "      <td>5000.0</td>\n",
       "      <td>36 months</td>\n",
       "      <td>17.97</td>\n",
       "      <td>180.69</td>\n",
       "      <td>D</td>\n",
       "      <td>D1</td>\n",
       "      <td>6 years</td>\n",
       "      <td>MORTGAGE</td>\n",
       "      <td>...</td>\n",
       "      <td>Feb-2019</td>\n",
       "      <td>180.69</td>\n",
       "      <td>Individual</td>\n",
       "      <td>0.0</td>\n",
       "      <td>110299.0</td>\n",
       "      <td>18383.0</td>\n",
       "      <td>0.0</td>\n",
       "      <td>0.0</td>\n",
       "      <td>0.0</td>\n",
       "      <td>N</td>\n",
       "    </tr>\n",
       "    <tr>\n",
       "      <td>3</td>\n",
       "      <td>4000</td>\n",
       "      <td>4000</td>\n",
       "      <td>4000.0</td>\n",
       "      <td>36 months</td>\n",
       "      <td>18.94</td>\n",
       "      <td>146.51</td>\n",
       "      <td>D</td>\n",
       "      <td>D2</td>\n",
       "      <td>10+ years</td>\n",
       "      <td>MORTGAGE</td>\n",
       "      <td>...</td>\n",
       "      <td>Feb-2019</td>\n",
       "      <td>146.51</td>\n",
       "      <td>Individual</td>\n",
       "      <td>686.0</td>\n",
       "      <td>305049.0</td>\n",
       "      <td>30505.0</td>\n",
       "      <td>0.0</td>\n",
       "      <td>0.0</td>\n",
       "      <td>0.0</td>\n",
       "      <td>N</td>\n",
       "    </tr>\n",
       "    <tr>\n",
       "      <td>4</td>\n",
       "      <td>30000</td>\n",
       "      <td>30000</td>\n",
       "      <td>30000.0</td>\n",
       "      <td>60 months</td>\n",
       "      <td>16.14</td>\n",
       "      <td>731.78</td>\n",
       "      <td>C</td>\n",
       "      <td>C4</td>\n",
       "      <td>10+ years</td>\n",
       "      <td>MORTGAGE</td>\n",
       "      <td>...</td>\n",
       "      <td>Feb-2019</td>\n",
       "      <td>731.78</td>\n",
       "      <td>Individual</td>\n",
       "      <td>0.0</td>\n",
       "      <td>116007.0</td>\n",
       "      <td>9667.0</td>\n",
       "      <td>0.0</td>\n",
       "      <td>0.0</td>\n",
       "      <td>0.0</td>\n",
       "      <td>N</td>\n",
       "    </tr>\n",
       "  </tbody>\n",
       "</table>\n",
       "<p>5 rows × 33 columns</p>\n",
       "</div>"
      ],
      "text/plain": [
       "   loan_amnt  funded_amnt  funded_amnt_inv        term  int_rate  installment  \\\n",
       "0       2500         2500           2500.0   36 months     13.56        84.92   \n",
       "1      30000        30000          30000.0   60 months     18.94       777.23   \n",
       "2       5000         5000           5000.0   36 months     17.97       180.69   \n",
       "3       4000         4000           4000.0   36 months     18.94       146.51   \n",
       "4      30000        30000          30000.0   60 months     16.14       731.78   \n",
       "\n",
       "  grade sub_grade emp_length home_ownership  ...  last_pymnt_d  \\\n",
       "0     C        C1  10+ years           RENT  ...      Feb-2019   \n",
       "1     D        D2  10+ years       MORTGAGE  ...      Feb-2019   \n",
       "2     D        D1    6 years       MORTGAGE  ...      Feb-2019   \n",
       "3     D        D2  10+ years       MORTGAGE  ...      Feb-2019   \n",
       "4     C        C4  10+ years       MORTGAGE  ...      Feb-2019   \n",
       "\n",
       "  last_pymnt_amnt  application_type tot_coll_amt tot_cur_bal  avg_cur_bal  \\\n",
       "0           84.92        Individual          0.0     16901.0       1878.0   \n",
       "1          777.23        Individual       1208.0    321915.0      24763.0   \n",
       "2          180.69        Individual          0.0    110299.0      18383.0   \n",
       "3          146.51        Individual        686.0    305049.0      30505.0   \n",
       "4          731.78        Individual          0.0    116007.0       9667.0   \n",
       "\n",
       "   chargeoff_within_12_mths  pub_rec_bankruptcies  tax_liens  \\\n",
       "0                       0.0                   1.0        0.0   \n",
       "1                       0.0                   1.0        0.0   \n",
       "2                       0.0                   0.0        0.0   \n",
       "3                       0.0                   0.0        0.0   \n",
       "4                       0.0                   0.0        0.0   \n",
       "\n",
       "   debt_settlement_flag  \n",
       "0                     N  \n",
       "1                     N  \n",
       "2                     N  \n",
       "3                     N  \n",
       "4                     N  \n",
       "\n",
       "[5 rows x 33 columns]"
      ]
     },
     "execution_count": 6,
     "metadata": {},
     "output_type": "execute_result"
    }
   ],
   "source": [
    "df.head()"
   ]
  },
  {
   "cell_type": "markdown",
   "metadata": {
    "colab_type": "text",
    "id": "TiBF8bxD4W0Y"
   },
   "source": [
    "For simplicity, in this question, we select all columns that do not contain integer of float type of data. Then, one hot encoding is performed."
   ]
  },
  {
   "cell_type": "code",
   "execution_count": 7,
   "metadata": {
    "colab": {},
    "colab_type": "code",
    "id": "fYr-DCJQ4Zkq"
   },
   "outputs": [],
   "source": [
    "df_cat = df.select_dtypes(exclude=['int64', 'float64'])\n",
    "df = pd.get_dummies(df, df_cat.columns.values)"
   ]
  },
  {
   "cell_type": "markdown",
   "metadata": {
    "colab_type": "text",
    "id": "xNxdaQFR4b4h"
   },
   "source": [
    "Select the `loan_status` column as the target column.  \n",
    "## **1. Feature Selection (30 pts)**  \n",
    "**1.1 (3 pts)** Perform [Min-Max Scaling](https://scikit-learn.org/stable/modules/generated/sklearn.preprocessing.MinMaxScaler.html) on the dataset. Continue to use the scaled dataset for Q1 and Q2 of this assignment.   \n",
    "**1.2 (5 pts)** Split the dataset into train and test set with 25% data in test set and print the total number of features. Use this dataset to create a `RandomForestClassifier(n_estimators=5, random_state=42)` model and print the [classification_report()](https://scikit-learn.org/stable/modules/generated/sklearn.metrics.classification_report.html) to show the precision, recall and F1 score based on the test set.  \n",
    "**1.3 (6 pts)** Use $\\chi^2$ test to select the top 100, 30 and 10 features using [SelectKBest](https://scikit-learn.org/stable/modules/feature_selection.html#univariate-feature-selection) module. Train a random forest model and print the [classification_report()](https://scikit-learn.org/stable/modules/generated/sklearn.metrics.classification_report.html) for each of the trained models.  \n",
    "**Note:** $\\chi^2$ test requires non-negative values only for all features. Since we have performed Min-Max scaling previously (where the default behavior is to scale features between 0 and 1, there should not be any problem performing this test.)   \n",
    "**1.4 (6 pts)** [Plot the ROC curves](https://github.com/justmarkham/scikit-learn-tips/blob/master/notebooks/21_plot_roc_curve.ipynb) for all of the 4 models.  \n",
    "**1.5 (8 pts)** Plot the feature importance for each of the 4 random forest models that you have trained to show the top 5 features. ([Get feature names after feature selection](https://stackoverflow.com/a/43765224), [Plot feature importance using Pandas and matplotlib](https://stackoverflow.com/a/51520906))  \n",
    "**1.6 (2 pts)** What do you observe from the ROC curves?"
   ]
  },
  {
   "cell_type": "code",
   "execution_count": 8,
   "metadata": {},
   "outputs": [
    {
     "data": {
      "text/html": [
       "<div>\n",
       "<style scoped>\n",
       "    .dataframe tbody tr th:only-of-type {\n",
       "        vertical-align: middle;\n",
       "    }\n",
       "\n",
       "    .dataframe tbody tr th {\n",
       "        vertical-align: top;\n",
       "    }\n",
       "\n",
       "    .dataframe thead th {\n",
       "        text-align: right;\n",
       "    }\n",
       "</style>\n",
       "<table border=\"1\" class=\"dataframe\">\n",
       "  <thead>\n",
       "    <tr style=\"text-align: right;\">\n",
       "      <th></th>\n",
       "      <th>loan_amnt</th>\n",
       "      <th>funded_amnt</th>\n",
       "      <th>funded_amnt_inv</th>\n",
       "      <th>int_rate</th>\n",
       "      <th>installment</th>\n",
       "      <th>annual_inc</th>\n",
       "      <th>loan_status</th>\n",
       "      <th>dti</th>\n",
       "      <th>open_acc</th>\n",
       "      <th>pub_rec</th>\n",
       "      <th>...</th>\n",
       "      <th>last_pymnt_d_Feb-2019</th>\n",
       "      <th>last_pymnt_d_Jan-2019</th>\n",
       "      <th>last_pymnt_d_Jul-2018</th>\n",
       "      <th>last_pymnt_d_Nov-2018</th>\n",
       "      <th>last_pymnt_d_Oct-2018</th>\n",
       "      <th>last_pymnt_d_Sep-2018</th>\n",
       "      <th>application_type_Individual</th>\n",
       "      <th>application_type_Joint App</th>\n",
       "      <th>debt_settlement_flag_N</th>\n",
       "      <th>debt_settlement_flag_Y</th>\n",
       "    </tr>\n",
       "  </thead>\n",
       "  <tbody>\n",
       "    <tr>\n",
       "      <td>0</td>\n",
       "      <td>0.038462</td>\n",
       "      <td>0.038462</td>\n",
       "      <td>0.045194</td>\n",
       "      <td>0.321262</td>\n",
       "      <td>0.033202</td>\n",
       "      <td>0.005637</td>\n",
       "      <td>1.0</td>\n",
       "      <td>0.018258</td>\n",
       "      <td>0.095745</td>\n",
       "      <td>0.166667</td>\n",
       "      <td>...</td>\n",
       "      <td>1.0</td>\n",
       "      <td>0.0</td>\n",
       "      <td>0.0</td>\n",
       "      <td>0.0</td>\n",
       "      <td>0.0</td>\n",
       "      <td>0.0</td>\n",
       "      <td>1.0</td>\n",
       "      <td>0.0</td>\n",
       "      <td>1.0</td>\n",
       "      <td>0.0</td>\n",
       "    </tr>\n",
       "    <tr>\n",
       "      <td>1</td>\n",
       "      <td>0.743590</td>\n",
       "      <td>0.743590</td>\n",
       "      <td>0.745385</td>\n",
       "      <td>0.530763</td>\n",
       "      <td>0.455427</td>\n",
       "      <td>0.009224</td>\n",
       "      <td>1.0</td>\n",
       "      <td>0.026547</td>\n",
       "      <td>0.138298</td>\n",
       "      <td>0.166667</td>\n",
       "      <td>...</td>\n",
       "      <td>1.0</td>\n",
       "      <td>0.0</td>\n",
       "      <td>0.0</td>\n",
       "      <td>0.0</td>\n",
       "      <td>0.0</td>\n",
       "      <td>0.0</td>\n",
       "      <td>1.0</td>\n",
       "      <td>0.0</td>\n",
       "      <td>1.0</td>\n",
       "      <td>0.0</td>\n",
       "    </tr>\n",
       "    <tr>\n",
       "      <td>2</td>\n",
       "      <td>0.102564</td>\n",
       "      <td>0.102564</td>\n",
       "      <td>0.108848</td>\n",
       "      <td>0.492991</td>\n",
       "      <td>0.091610</td>\n",
       "      <td>0.006076</td>\n",
       "      <td>1.0</td>\n",
       "      <td>0.010521</td>\n",
       "      <td>0.085106</td>\n",
       "      <td>0.000000</td>\n",
       "      <td>...</td>\n",
       "      <td>1.0</td>\n",
       "      <td>0.0</td>\n",
       "      <td>0.0</td>\n",
       "      <td>0.0</td>\n",
       "      <td>0.0</td>\n",
       "      <td>0.0</td>\n",
       "      <td>1.0</td>\n",
       "      <td>0.0</td>\n",
       "      <td>1.0</td>\n",
       "      <td>0.0</td>\n",
       "    </tr>\n",
       "    <tr>\n",
       "      <td>3</td>\n",
       "      <td>0.076923</td>\n",
       "      <td>0.076923</td>\n",
       "      <td>0.083386</td>\n",
       "      <td>0.530763</td>\n",
       "      <td>0.070764</td>\n",
       "      <td>0.009429</td>\n",
       "      <td>1.0</td>\n",
       "      <td>0.016757</td>\n",
       "      <td>0.106383</td>\n",
       "      <td>0.000000</td>\n",
       "      <td>...</td>\n",
       "      <td>1.0</td>\n",
       "      <td>0.0</td>\n",
       "      <td>0.0</td>\n",
       "      <td>0.0</td>\n",
       "      <td>0.0</td>\n",
       "      <td>0.0</td>\n",
       "      <td>1.0</td>\n",
       "      <td>0.0</td>\n",
       "      <td>1.0</td>\n",
       "      <td>0.0</td>\n",
       "    </tr>\n",
       "    <tr>\n",
       "      <td>4</td>\n",
       "      <td>0.743590</td>\n",
       "      <td>0.743590</td>\n",
       "      <td>0.745385</td>\n",
       "      <td>0.421729</td>\n",
       "      <td>0.427708</td>\n",
       "      <td>0.005867</td>\n",
       "      <td>1.0</td>\n",
       "      <td>0.026376</td>\n",
       "      <td>0.127660</td>\n",
       "      <td>0.000000</td>\n",
       "      <td>...</td>\n",
       "      <td>1.0</td>\n",
       "      <td>0.0</td>\n",
       "      <td>0.0</td>\n",
       "      <td>0.0</td>\n",
       "      <td>0.0</td>\n",
       "      <td>0.0</td>\n",
       "      <td>1.0</td>\n",
       "      <td>0.0</td>\n",
       "      <td>1.0</td>\n",
       "      <td>0.0</td>\n",
       "    </tr>\n",
       "  </tbody>\n",
       "</table>\n",
       "<p>5 rows × 161 columns</p>\n",
       "</div>"
      ],
      "text/plain": [
       "   loan_amnt  funded_amnt  funded_amnt_inv  int_rate  installment  annual_inc  \\\n",
       "0   0.038462     0.038462         0.045194  0.321262     0.033202    0.005637   \n",
       "1   0.743590     0.743590         0.745385  0.530763     0.455427    0.009224   \n",
       "2   0.102564     0.102564         0.108848  0.492991     0.091610    0.006076   \n",
       "3   0.076923     0.076923         0.083386  0.530763     0.070764    0.009429   \n",
       "4   0.743590     0.743590         0.745385  0.421729     0.427708    0.005867   \n",
       "\n",
       "   loan_status       dti  open_acc   pub_rec  ...  last_pymnt_d_Feb-2019  \\\n",
       "0          1.0  0.018258  0.095745  0.166667  ...                    1.0   \n",
       "1          1.0  0.026547  0.138298  0.166667  ...                    1.0   \n",
       "2          1.0  0.010521  0.085106  0.000000  ...                    1.0   \n",
       "3          1.0  0.016757  0.106383  0.000000  ...                    1.0   \n",
       "4          1.0  0.026376  0.127660  0.000000  ...                    1.0   \n",
       "\n",
       "   last_pymnt_d_Jan-2019  last_pymnt_d_Jul-2018  last_pymnt_d_Nov-2018  \\\n",
       "0                    0.0                    0.0                    0.0   \n",
       "1                    0.0                    0.0                    0.0   \n",
       "2                    0.0                    0.0                    0.0   \n",
       "3                    0.0                    0.0                    0.0   \n",
       "4                    0.0                    0.0                    0.0   \n",
       "\n",
       "   last_pymnt_d_Oct-2018  last_pymnt_d_Sep-2018  application_type_Individual  \\\n",
       "0                    0.0                    0.0                          1.0   \n",
       "1                    0.0                    0.0                          1.0   \n",
       "2                    0.0                    0.0                          1.0   \n",
       "3                    0.0                    0.0                          1.0   \n",
       "4                    0.0                    0.0                          1.0   \n",
       "\n",
       "   application_type_Joint App  debt_settlement_flag_N  debt_settlement_flag_Y  \n",
       "0                         0.0                     1.0                     0.0  \n",
       "1                         0.0                     1.0                     0.0  \n",
       "2                         0.0                     1.0                     0.0  \n",
       "3                         0.0                     1.0                     0.0  \n",
       "4                         0.0                     1.0                     0.0  \n",
       "\n",
       "[5 rows x 161 columns]"
      ]
     },
     "execution_count": 8,
     "metadata": {},
     "output_type": "execute_result"
    }
   ],
   "source": [
    "scaler = MinMaxScaler()\n",
    "df[df.columns] = scaler.fit_transform(df[df.columns])\n",
    "df.head()"
   ]
  },
  {
   "cell_type": "code",
   "execution_count": 9,
   "metadata": {},
   "outputs": [
    {
     "name": "stdout",
     "output_type": "stream",
     "text": [
      "Number of features: 160\n"
     ]
    }
   ],
   "source": [
    "y = df['loan_status']\n",
    "x = df.drop(['loan_status'],axis=1)\n",
    "x_train,x_test,y_train,y_test = train_test_split(x,y,test_size=0.25)\n",
    "print(\"Number of features:\", len(x.columns))"
   ]
  },
  {
   "cell_type": "code",
   "execution_count": 10,
   "metadata": {},
   "outputs": [
    {
     "name": "stdout",
     "output_type": "stream",
     "text": [
      "              precision    recall  f1-score   support\n",
      "\n",
      "         0.0       0.63      0.29      0.40       820\n",
      "         1.0       0.99      1.00      0.99     55697\n",
      "\n",
      "    accuracy                           0.99     56517\n",
      "   macro avg       0.81      0.64      0.70     56517\n",
      "weighted avg       0.98      0.99      0.98     56517\n",
      "\n"
     ]
    }
   ],
   "source": [
    "rfc = RandomForestClassifier(n_estimators = 5, random_state = 42)\n",
    "rfc.fit(x_train, y_train)\n",
    "forest_pred = rfc.predict(x_test)\n",
    "print(classification_report(y_test, forest_pred))"
   ]
  },
  {
   "cell_type": "code",
   "execution_count": 11,
   "metadata": {},
   "outputs": [
    {
     "data": {
      "text/plain": [
       "(226067, 160)"
      ]
     },
     "execution_count": 11,
     "metadata": {},
     "output_type": "execute_result"
    }
   ],
   "source": [
    "x.shape"
   ]
  },
  {
   "cell_type": "code",
   "execution_count": 12,
   "metadata": {},
   "outputs": [],
   "source": [
    "x_100_train = SelectKBest(chi2, k = 100).fit_transform(x_train, y_train)\n",
    "x_100_test = SelectKBest(chi2, k = 100).fit_transform(x_test, y_test)\n",
    "\n",
    "x_30_train = SelectKBest(chi2, k = 30).fit_transform(x_train, y_train)\n",
    "x_30_test = SelectKBest(chi2, k = 30).fit_transform(x_test, y_test)\n",
    "\n",
    "x_10_train = SelectKBest(chi2, k = 10).fit_transform(x_train, y_train)\n",
    "x_10_test = SelectKBest(chi2, k = 10).fit_transform(x_test, y_test)"
   ]
  },
  {
   "cell_type": "code",
   "execution_count": 13,
   "metadata": {},
   "outputs": [
    {
     "name": "stdout",
     "output_type": "stream",
     "text": [
      "              precision    recall  f1-score   support\n",
      "\n",
      "         0.0       0.01      0.36      0.02       820\n",
      "         1.0       0.98      0.45      0.62     55697\n",
      "\n",
      "    accuracy                           0.45     56517\n",
      "   macro avg       0.49      0.40      0.32     56517\n",
      "weighted avg       0.97      0.45      0.61     56517\n",
      "\n"
     ]
    }
   ],
   "source": [
    "rfc100 = RandomForestClassifier(n_estimators = 5, random_state = 42)\n",
    "rfc100.fit(x_100_train, y_train)\n",
    "forest_100_pred = rfc100.predict(x_100_test)\n",
    "print(classification_report(y_test, forest_100_pred))"
   ]
  },
  {
   "cell_type": "code",
   "execution_count": 14,
   "metadata": {},
   "outputs": [
    {
     "name": "stdout",
     "output_type": "stream",
     "text": [
      "              precision    recall  f1-score   support\n",
      "\n",
      "         0.0       0.55      0.12      0.20       820\n",
      "         1.0       0.99      1.00      0.99     55697\n",
      "\n",
      "    accuracy                           0.99     56517\n",
      "   macro avg       0.77      0.56      0.60     56517\n",
      "weighted avg       0.98      0.99      0.98     56517\n",
      "\n"
     ]
    }
   ],
   "source": [
    "rfc30 = RandomForestClassifier(n_estimators = 5, random_state = 42)\n",
    "rfc30.fit(x_30_train, y_train)\n",
    "forest_30_pred = rfc30.predict(x_30_test)\n",
    "print(classification_report(y_test, forest_30_pred))"
   ]
  },
  {
   "cell_type": "code",
   "execution_count": 15,
   "metadata": {},
   "outputs": [
    {
     "name": "stdout",
     "output_type": "stream",
     "text": [
      "              precision    recall  f1-score   support\n",
      "\n",
      "         0.0       1.00      0.08      0.14       820\n",
      "         1.0       0.99      1.00      0.99     55697\n",
      "\n",
      "    accuracy                           0.99     56517\n",
      "   macro avg       0.99      0.54      0.57     56517\n",
      "weighted avg       0.99      0.99      0.98     56517\n",
      "\n"
     ]
    }
   ],
   "source": [
    "rfc10 = RandomForestClassifier(n_estimators = 5, random_state = 42)\n",
    "rfc10.fit(x_10_train, y_train)\n",
    "forest_10_pred = rfc10.predict(x_10_test)\n",
    "print(classification_report(y_test, forest_10_pred))"
   ]
  },
  {
   "cell_type": "code",
   "execution_count": 16,
   "metadata": {},
   "outputs": [
    {
     "data": {
      "text/plain": [
       "<sklearn.metrics._plot.roc_curve.RocCurveDisplay at 0x12ee05750>"
      ]
     },
     "execution_count": 16,
     "metadata": {},
     "output_type": "execute_result"
    },
    {
     "data": {
      "image/png": "[encoded data removed]",
      "text/plain": [
       "<Figure size 432x288 with 1 Axes>"
      ]
     },
     "metadata": {
      "needs_background": "light"
     },
     "output_type": "display_data"
    }
   ],
   "source": [
    "disp = plot_roc_curve(rfc, x_test, y_test, name = 'All Features')\n",
    "plot_roc_curve(rfc100, x_100_test, y_test, name = 'Top 100 Features', ax=disp.ax_)\n",
    "plot_roc_curve(rfc30, x_30_test, y_test, name = 'Top 30 Features', ax=disp.ax_)\n",
    "plot_roc_curve(rfc10, x_10_test, y_test, name = 'Top 10 Features', ax=disp.ax_)"
   ]
  },
  {
   "cell_type": "markdown",
   "metadata": {
    "colab_type": "text",
    "id": "J9RWV5KW4e8z"
   },
   "source": [
    "# Question 2 (20 pts)\n",
    "Use Principal Component Analysis (PCA) to solve this problem.  \n",
    " "
   ]
  },
  {
   "cell_type": "markdown",
   "metadata": {},
   "source": [
    "**2.1 (3 pts)** Use [PCA](https://scikit-learn.org/stable/modules/generated/sklearn.decomposition.PCA.html) and reduce the dimension of the dataset to the following components: 100, 30, 10. (3 models)  \n"
   ]
  },
  {
   "cell_type": "code",
   "execution_count": 56,
   "metadata": {},
   "outputs": [],
   "source": [
    "from sklearn.decomposition import PCA\n",
    "from sklearn import preprocessing\n",
    "import matplotlib.pyplot as plt"
   ]
  },
  {
   "cell_type": "code",
   "execution_count": 57,
   "metadata": {},
   "outputs": [],
   "source": [
    "# 10 components\n",
    "pca10 = PCA(n_components=10)\n",
    "pcomp10 = pca10.fit_transform(x)\n",
    "\n",
    "# creating feature matrix\n",
    "pca10_df = pd.DataFrame(data = pcomp10)\n",
    "targetDataframe = df['loan_status']\n",
    "pca10_df = pd.concat([pca10_df, targetDataframe],axis = 1)"
   ]
  },
  {
   "cell_type": "code",
   "execution_count": 58,
   "metadata": {},
   "outputs": [],
   "source": [
    "# 30 components\n",
    "pca30 = PCA(n_components=30)\n",
    "pcomp30 = pca30.fit_transform(x)\n",
    "\n",
    "# creating feature matrix\n",
    "pca30_df = pd.DataFrame(data = pcomp30)\n",
    "targetDataframe = df['loan_status']\n",
    "pca30_df = pd.concat([pca10_df, targetDataframe],axis = 1)"
   ]
  },
  {
   "cell_type": "code",
   "execution_count": 59,
   "metadata": {},
   "outputs": [],
   "source": [
    "# 100 components\n",
    "pca100 = PCA(n_components=100)\n",
    "pcomp100 = pca100.fit_transform(x)\n",
    "\n",
    "# creating feature matrix\n",
    "pca100_df = pd.DataFrame(data = principalComponents)\n",
    "targetDataframe = df['loan_status']\n",
    "pca100_df = pd.concat([pca100_df, targetDataframe],axis = 1)"
   ]
  },
  {
   "cell_type": "code",
   "execution_count": 60,
   "metadata": {},
   "outputs": [
    {
     "name": "stdout",
     "output_type": "stream",
     "text": [
      "Number of features: 160\n"
     ]
    }
   ],
   "source": [
    "y = df['loan_status']\n",
    "x = df.drop(['loan_status'],axis=1)\n",
    "x_train,x_test,y_train,y_test = train_test_split(x,y,test_size=0.25)\n",
    "print(\"Number of features:\", len(x.columns))"
   ]
  },
  {
   "cell_type": "markdown",
   "metadata": {},
   "source": [
    "**2.2 (6 pts)** Train Random Forest models (each using 5 decision trees (i.e. 5 estimators) for each of the reduced datasets and print the classification report similar to Q1. This will print the class-wise Precision, Recall and F1 score."
   ]
  },
  {
   "cell_type": "markdown",
   "metadata": {},
   "source": [
    "**2.3 (4 pts)** Plot the ROC curves similar to Q1 for all models (trained using dataset containing all dimensions and dataset containing reduced dimensions).  \n"
   ]
  },
  {
   "cell_type": "code",
   "execution_count": 61,
   "metadata": {},
   "outputs": [
    {
     "name": "stdout",
     "output_type": "stream",
     "text": [
      "              precision    recall  f1-score   support\n",
      "\n",
      "         0.0       0.64      0.32      0.42       885\n",
      "         1.0       0.99      1.00      0.99     55632\n",
      "\n",
      "    accuracy                           0.99     56517\n",
      "   macro avg       0.82      0.66      0.71     56517\n",
      "weighted avg       0.98      0.99      0.98     56517\n",
      "\n"
     ]
    }
   ],
   "source": [
    "# Random Forest model on original df\n",
    "rfc_df = RandomForestClassifier(n_estimators = 5, random_state = 42)\n",
    "rfc_df.fit(x_train, y_train)\n",
    "df_pred = rfc_df.predict(x_test)\n",
    "print(classification_report(y_test, df_pred))"
   ]
  },
  {
   "cell_type": "code",
   "execution_count": 62,
   "metadata": {},
   "outputs": [
    {
     "data": {
      "image/png": "[encoded data removed]",
      "text/plain": [
       "<Figure size 432x288 with 1 Axes>"
      ]
     },
     "metadata": {
      "needs_background": "light"
     },
     "output_type": "display_data"
    }
   ],
   "source": [
    "# plotting ROC curve for original df\n",
    "disp = plot_roc_curve(rfc_df, x_test, y_test, name = 'ROC curve for original dataframe from Q1')"
   ]
  },
  {
   "cell_type": "code",
   "execution_count": 63,
   "metadata": {},
   "outputs": [
    {
     "name": "stdout",
     "output_type": "stream",
     "text": [
      "              precision    recall  f1-score   support\n",
      "\n",
      "         0.0       0.13      0.01      0.02       866\n",
      "         1.0       0.98      1.00      0.99     55651\n",
      "\n",
      "    accuracy                           0.98     56517\n",
      "   macro avg       0.56      0.51      0.51     56517\n",
      "weighted avg       0.97      0.98      0.98     56517\n",
      "\n"
     ]
    }
   ],
   "source": [
    "# Random Forest model on pca_10\n",
    "x_pca = pca10_df.drop(['loan_status'],axis=1)\n",
    "y_pca = pca10_df['loan_status']\n",
    "\n",
    "x_train_pca,x_test_pca,y_train_pca,y_test_pca = train_test_split(x_pca,y_pca,test_size=0.25)\n",
    "\n",
    "\n",
    "rfc_pca = RandomForestClassifier(n_estimators = 5, random_state = 42)\n",
    "rfc_pca.fit(x_train_pca, y_train_pca)\n",
    "pca_pred = rfc_pca.predict(x_test_pca)\n",
    "print(classification_report(y_test_pca, pca_pred))"
   ]
  },
  {
   "cell_type": "code",
   "execution_count": 64,
   "metadata": {},
   "outputs": [
    {
     "data": {
      "image/png": "[encoded data removed]",
      "text/plain": [
       "<Figure size 432x288 with 1 Axes>"
      ]
     },
     "metadata": {
      "needs_background": "light"
     },
     "output_type": "display_data"
    }
   ],
   "source": [
    "# plotting ROC curve for PCA \n",
    "disp = plot_roc_curve(rfc_pca, x_test_pca, y_test_pca, name = 'ROC curve for PCA dataframe (10 comp.)')"
   ]
  },
  {
   "cell_type": "code",
   "execution_count": 65,
   "metadata": {},
   "outputs": [
    {
     "name": "stdout",
     "output_type": "stream",
     "text": [
      "              precision    recall  f1-score   support\n",
      "\n",
      "         0.0       0.21      0.02      0.03       879\n",
      "         1.0       0.98      1.00      0.99     55638\n",
      "\n",
      "    accuracy                           0.98     56517\n",
      "   macro avg       0.60      0.51      0.51     56517\n",
      "weighted avg       0.97      0.98      0.98     56517\n",
      "\n"
     ]
    }
   ],
   "source": [
    "# Random Forest model on pca_30\n",
    "x_pca = pca30_df.drop(['loan_status'],axis=1)\n",
    "y_pca = df['loan_status']\n",
    "\n",
    "x_train_pca,x_test_pca,y_train_pca,y_test_pca = train_test_split(x_pca,y_pca,test_size=0.25)\n",
    "\n",
    "\n",
    "rfc_pca = RandomForestClassifier(n_estimators = 5, random_state = 42)\n",
    "rfc_pca.fit(x_train_pca, y_train_pca)\n",
    "pca_pred = rfc_pca.predict(x_test_pca)\n",
    "print(classification_report(y_test_pca, pca_pred))"
   ]
  },
  {
   "cell_type": "code",
   "execution_count": 66,
   "metadata": {},
   "outputs": [
    {
     "data": {
      "image/png": "[encoded data removed]",
      "text/plain": [
       "<Figure size 432x288 with 1 Axes>"
      ]
     },
     "metadata": {
      "needs_background": "light"
     },
     "output_type": "display_data"
    }
   ],
   "source": [
    "# plotting ROC curve for PCA \n",
    "disp = plot_roc_curve(rfc_pca, x_test_pca, y_test_pca, name = 'ROC curve for PCA dataframe (30 comp.)')"
   ]
  },
  {
   "cell_type": "code",
   "execution_count": 67,
   "metadata": {},
   "outputs": [
    {
     "name": "stdout",
     "output_type": "stream",
     "text": [
      "              precision    recall  f1-score   support\n",
      "\n",
      "         0.0       0.13      0.01      0.02       824\n",
      "         1.0       0.99      1.00      0.99     55693\n",
      "\n",
      "    accuracy                           0.98     56517\n",
      "   macro avg       0.56      0.51      0.51     56517\n",
      "weighted avg       0.97      0.98      0.98     56517\n",
      "\n"
     ]
    }
   ],
   "source": [
    "# Random Forest model on pca_100\n",
    "x_pca = pca100_df.drop(['loan_status'],axis=1)\n",
    "y_pca = df['loan_status']\n",
    "\n",
    "x_train_pca,x_test_pca,y_train_pca,y_test_pca = train_test_split(x_pca,y_pca,test_size=0.25)\n",
    "\n",
    "\n",
    "rfc_pca = RandomForestClassifier(n_estimators = 5, random_state = 42)\n",
    "rfc_pca.fit(x_train_pca, y_train_pca)\n",
    "pca_pred = rfc_pca.predict(x_test_pca)\n",
    "print(classification_report(y_test_pca, pca_pred))"
   ]
  },
  {
   "cell_type": "code",
   "execution_count": 68,
   "metadata": {},
   "outputs": [
    {
     "data": {
      "image/png": "[encoded data removed]",
      "text/plain": [
       "<Figure size 432x288 with 1 Axes>"
      ]
     },
     "metadata": {
      "needs_background": "light"
     },
     "output_type": "display_data"
    }
   ],
   "source": [
    "# plotting ROC curve for PCA \n",
    "disp = plot_roc_curve(rfc_pca, x_test_pca, y_test_pca, name = 'ROC curve for PCA dataframe (100 comp.)')"
   ]
  },
  {
   "cell_type": "markdown",
   "metadata": {},
   "source": [
    "**2.4 (2 pts)** What do you observe from the ROC curves? Why do you think the classifiers based on PCA are doing worse than those based on feature selection?  \n"
   ]
  },
  {
   "cell_type": "markdown",
   "metadata": {},
   "source": [
    "For one, the performance of the PCA classifier is also dependent on the number of components used and perhaps 10 components is too few for accuracy as opposed to the original dataset of 160 features, which may be more computationally expensive but has more data to operate on the basis of.\n",
    "\n",
    "And though the PCA classifier utilizes the top 10 features that display the highest percentage variance explained, it may be missing out on features and data that are crucial to predicting the underlying nature of the phenomenon even though they do not contribute much variance in the target variable in the training data. "
   ]
  },
  {
   "cell_type": "markdown",
   "metadata": {},
   "source": [
    "**2.5 (5 pts)** Show the [scree plot](https://www.kindsonthegenius.com/2019/01/12/principal-components-analysispca-in-python-step-by-step/) for the first 10 components of your PCA."
   ]
  },
  {
   "cell_type": "code",
   "execution_count": 69,
   "metadata": {},
   "outputs": [
    {
     "data": {
      "image/png": "[encoded data removed]",
      "text/plain": [
       "<Figure size 432x288 with 1 Axes>"
      ]
     },
     "metadata": {
      "needs_background": "light"
     },
     "output_type": "display_data"
    }
   ],
   "source": [
    "# graphing scree plot\n",
    "\n",
    "percent_variance = np.round(pca10.explained_variance_ratio_* 100, decimals =2)\n",
    "columns = ['PC1', 'PC2', 'PC3', 'PC4', 'PC5', 'PC6', 'PC7', 'PC8', 'PC9', 'PC10']\n",
    "plt.bar(x= range(1,11), height=percent_variance, tick_label=columns)\n",
    "plt.ylabel('Percentate of Variance Explained')\n",
    "plt.xlabel('Principal Component')\n",
    "plt.title('PCA Scree Plot for first 10 components')\n",
    "plt.show()"
   ]
  },
  {
   "cell_type": "markdown",
   "metadata": {
    "colab_type": "text",
    "id": "8dsPyCV64h3r"
   },
   "source": [
    "# Question 3 (20 pts)\n",
    "\n",
    "Use XGBoost to solve this problem.  \n",
    "**3.1 (2 pts)** Use χ2 test to select the top 30 features using SelectKBest module. (Same as 1.3) \\\\\n",
    "**3.2 (10 pts)** Train XGBoost models on the entire dataset and the reduced dataset (with 30 features) \\\\\n",
    "(a) Using trees (Model A) \\\\\n",
    "(b) Using linear regression (Model B) \\\\\n",
    "using XGBClassifier (https://xgboost.readthedocs.io/en/latest/python/python_api.html) and you can specify the weak classifiers to be used using ***booster*** parameter in the XGBClassifier() function. \\\\\n",
    "**3.3 (5 pts)** Plot the ROC curves similar to Q1 for all models (trained using dataset containing all dimensions and dataset containing reduced dimensions) for both models A and B.  \n",
    "**3.4 (3 pts)** Which model performs better (Model A or B) and why?"
   ]
  },
  {
   "cell_type": "code",
   "execution_count": null,
   "metadata": {
    "colab": {},
    "colab_type": "code",
    "id": "b5oaQ-uc4m_U"
   },
   "outputs": [],
   "source": []
  }
 ],
 "metadata": {
  "colab": {
   "name": "HW5.ipynb",
   "provenance": []
  },
  "kernelspec": {
   "display_name": "Python 3",
   "language": "python",
   "name": "python3"
  },
  "language_info": {
   "codemirror_mode": {
    "name": "ipython",
    "version": 3
   },
   "file_extension": ".py",
   "mimetype": "text/x-python",
   "name": "python",
   "nbconvert_exporter": "python",
   "pygments_lexer": "ipython3",
   "version": "3.7.4"
  }
 },
 "nbformat": 4,
 "nbformat_minor": 1
}
