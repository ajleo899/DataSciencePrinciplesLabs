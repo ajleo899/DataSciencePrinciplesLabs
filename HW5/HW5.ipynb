{
  "nbformat": 4,
  "nbformat_minor": 0,
  "metadata": {
    "colab": {
      "name": "HW5.ipynb",
      "provenance": []
    },
    "kernelspec": {
      "name": "python3",
      "display_name": "Python 3"
    }
  },
  "cells": [
    {
      "cell_type": "markdown",
      "metadata": {
        "id": "8rEZF5VB4ADM",
        "colab_type": "text"
      },
      "source": [
        "# EE 461P: Data Science Principles\n",
        "# Assignment 5\n",
        "## Total points: 70\n",
        "## Due: Friday, April 24th, submitted via Canvas by 11:59 pm\n",
        "\n",
        "Your homework should be written in a **Jupyter notebook**. You may work in groups of two if you wish. Your partner needs to be from the same section. Only one student per team needs to submit the assignment on Canvas.  But be sure to include name and UTEID for both students.  Homework groups will be created and managed through Canvas, so please do not arbitrarily change your homework group. If you do change, let the TA know. \n",
        "\n",
        "Please ensure that the notebook you have uploaded on Canvas is the correct one, you could download the notebook from Canvas to double check that you have submitted the correct version on your notebook.\n",
        "\n",
        "Also, please make sure your code runs and the graphics (and anything else) are displayed in your notebook before submitting. (%matplotlib inline)"
      ]
    },
    {
      "cell_type": "code",
      "metadata": {
        "id": "A-ttVq8k4G5Y",
        "colab_type": "code",
        "colab": {}
      },
      "source": [
        "%matplotlib inline"
      ],
      "execution_count": 0,
      "outputs": []
    },
    {
      "cell_type": "markdown",
      "metadata": {
        "id": "3MDtM-6b4Dxv",
        "colab_type": "text"
      },
      "source": [
        "### Name(s)\n",
        "1. \n",
        "2. "
      ]
    },
    {
      "cell_type": "markdown",
      "metadata": {
        "id": "y3KZj8qJ4JC0",
        "colab_type": "text"
      },
      "source": [
        "The goal of this problem is to explore the effect of feature selection using  the following dataset (same as in HW 4) https://www.kaggle.com/wendykan/lending-club-loan-data\n",
        "\n",
        "Since the dataset is really huge, we will use only a certain set of features and samples to build our model. We will also use only two classes instead of all.\n",
        "\n",
        "The modified dataset with reduced number of samples has been prepared for your use. The file can be downloaded using the code below. You can also find it [here](https://drive.google.com/file/d/1Gv_N1rHLqDizxUck6l06BfniR30Pw0Zs/view?usp=sharing) in case you have a different environment and this code does not run."
      ]
    },
    {
      "cell_type": "code",
      "metadata": {
        "id": "i-6sWt6R4NAW",
        "colab_type": "code",
        "outputId": "8ab468a5-3935-4943-e776-871cb60cb199",
        "colab": {
          "base_uri": "https://localhost:8080/",
          "height": 125
        }
      },
      "source": [
        "%%bash\n",
        "ggID='1Gv_N1rHLqDizxUck6l06BfniR30Pw0Zs'  \n",
        "ggURL='https://drive.google.com/uc?export=download'  \n",
        "filename=\"$(curl -sc /tmp/gcokie \"${ggURL}&id=${ggID}\" | grep -o '=\"uc-name.*</span>' | sed 's/.*\">//;s/<.a> .*//')\"  \n",
        "getcode=\"$(awk '/_warning_/ {print $NF}' /tmp/gcokie)\"  \n",
        "\n",
        "if [ -e \"${filename}\" ]; then\n",
        "    echo 'File already exists'\n",
        "else\n",
        "    curl -Lb /tmp/gcokie \"${ggURL}&confirm=${getcode}&id=${ggID}\" -o \"${filename}\"  \n",
        "fi"
      ],
      "execution_count": 0,
      "outputs": [
        {
          "output_type": "stream",
          "text": [
            "  % Total    % Received % Xferd  Average Speed   Time    Time     Time  Current\n",
            "                                 Dload  Upload   Total   Spent    Left  Speed\n",
            "\r  0     0    0     0    0     0      0      0 --:--:-- --:--:-- --:--:--     0\r100   408    0   408    0     0   1383      0 --:--:-- --:--:-- --:--:--  1383\n",
            "\r  0     0    0     0    0     0      0      0 --:--:-- --:--:-- --:--:--     0\r  0     0    0     0    0     0      0      0 --:--:-- --:--:-- --:--:--     0\n",
            "\r  0     0    0     0    0     0      0      0 --:--:-- --:--:-- --:--:--     0\n",
            "\r100 8192k    0 8192k    0     0  5936k      0 --:--:--  0:00:01 --:--:-- 5936k\r100  139M    0  139M    0     0  65.5M      0 --:--:--  0:00:02 --:--:--  175M\n"
          ],
          "name": "stderr"
        }
      ]
    },
    {
      "cell_type": "code",
      "metadata": {
        "id": "WrnqWBIl4O1D",
        "colab_type": "code",
        "outputId": "90067b45-055b-4feb-e7e6-e67ef89d85fb",
        "colab": {
          "base_uri": "https://localhost:8080/",
          "height": 73
        }
      },
      "source": [
        "import os, sys, re\n",
        "import time\n",
        "import numpy as np\n",
        "import pandas as pd\n",
        "from sklearn.model_selection import train_test_split\n",
        "\n",
        "dataset = pd.read_csv('loan.csv')\n",
        "df = dataset.fillna(0)"
      ],
      "execution_count": 0,
      "outputs": [
        {
          "output_type": "stream",
          "text": [
            "/usr/local/lib/python3.6/dist-packages/IPython/core/interactiveshell.py:2718: DtypeWarning: Columns (123,124,125,128,129,130,133,139,140,141) have mixed types.Specify dtype option on import or set low_memory=False.\n",
            "  interactivity=interactivity, compiler=compiler, result=result)\n"
          ],
          "name": "stderr"
        }
      ]
    },
    {
      "cell_type": "code",
      "metadata": {
        "id": "hd6VE0Ey4Rm7",
        "colab_type": "code",
        "colab": {}
      },
      "source": [
        "def LoanResult(status):\n",
        "    if (status == 'Fully Paid') or (status == 'Current'):\n",
        "        return 1\n",
        "    else:\n",
        "        return 0\n",
        "\n",
        "df['loan_status'] = df['loan_status'].apply(LoanResult)"
      ],
      "execution_count": 0,
      "outputs": []
    },
    {
      "cell_type": "code",
      "metadata": {
        "id": "DyNuyKrQ4TOz",
        "colab_type": "code",
        "colab": {}
      },
      "source": [
        "df = df[['loan_amnt', 'funded_amnt', 'funded_amnt_inv', 'term', 'int_rate', 'installment', 'grade', 'sub_grade',\n",
        "             'emp_length', 'home_ownership','annual_inc', 'verification_status', 'loan_status',\n",
        "             'purpose','addr_state', 'dti','open_acc', 'pub_rec', 'revol_bal', 'revol_util', \n",
        "             'initial_list_status', 'recoveries','collection_recovery_fee', 'last_pymnt_d', 'last_pymnt_amnt',\n",
        "             'application_type', 'tot_coll_amt', 'tot_cur_bal', 'avg_cur_bal', 'chargeoff_within_12_mths',\n",
        "             'pub_rec_bankruptcies', 'tax_liens', 'debt_settlement_flag']]"
      ],
      "execution_count": 0,
      "outputs": []
    },
    {
      "cell_type": "code",
      "metadata": {
        "id": "8R780Ht74U4o",
        "colab_type": "code",
        "outputId": "2ad33259-9e7d-4ecd-a773-e69b2461901c",
        "colab": {
          "base_uri": "https://localhost:8080/",
          "height": 309
        }
      },
      "source": [
        "df.head()"
      ],
      "execution_count": 0,
      "outputs": [
        {
          "output_type": "execute_result",
          "data": {
            "text/html": [
              "<div>\n",
              "<style scoped>\n",
              "    .dataframe tbody tr th:only-of-type {\n",
              "        vertical-align: middle;\n",
              "    }\n",
              "\n",
              "    .dataframe tbody tr th {\n",
              "        vertical-align: top;\n",
              "    }\n",
              "\n",
              "    .dataframe thead th {\n",
              "        text-align: right;\n",
              "    }\n",
              "</style>\n",
              "<table border=\"1\" class=\"dataframe\">\n",
              "  <thead>\n",
              "    <tr style=\"text-align: right;\">\n",
              "      <th></th>\n",
              "      <th>loan_amnt</th>\n",
              "      <th>funded_amnt</th>\n",
              "      <th>funded_amnt_inv</th>\n",
              "      <th>term</th>\n",
              "      <th>int_rate</th>\n",
              "      <th>installment</th>\n",
              "      <th>grade</th>\n",
              "      <th>sub_grade</th>\n",
              "      <th>emp_length</th>\n",
              "      <th>home_ownership</th>\n",
              "      <th>annual_inc</th>\n",
              "      <th>verification_status</th>\n",
              "      <th>loan_status</th>\n",
              "      <th>purpose</th>\n",
              "      <th>addr_state</th>\n",
              "      <th>dti</th>\n",
              "      <th>open_acc</th>\n",
              "      <th>pub_rec</th>\n",
              "      <th>revol_bal</th>\n",
              "      <th>revol_util</th>\n",
              "      <th>initial_list_status</th>\n",
              "      <th>recoveries</th>\n",
              "      <th>collection_recovery_fee</th>\n",
              "      <th>last_pymnt_d</th>\n",
              "      <th>last_pymnt_amnt</th>\n",
              "      <th>application_type</th>\n",
              "      <th>tot_coll_amt</th>\n",
              "      <th>tot_cur_bal</th>\n",
              "      <th>avg_cur_bal</th>\n",
              "      <th>chargeoff_within_12_mths</th>\n",
              "      <th>pub_rec_bankruptcies</th>\n",
              "      <th>tax_liens</th>\n",
              "      <th>debt_settlement_flag</th>\n",
              "    </tr>\n",
              "  </thead>\n",
              "  <tbody>\n",
              "    <tr>\n",
              "      <th>0</th>\n",
              "      <td>2500</td>\n",
              "      <td>2500</td>\n",
              "      <td>2500.0</td>\n",
              "      <td>36 months</td>\n",
              "      <td>13.56</td>\n",
              "      <td>84.92</td>\n",
              "      <td>C</td>\n",
              "      <td>C1</td>\n",
              "      <td>10+ years</td>\n",
              "      <td>RENT</td>\n",
              "      <td>55000.0</td>\n",
              "      <td>Not Verified</td>\n",
              "      <td>1</td>\n",
              "      <td>debt_consolidation</td>\n",
              "      <td>NY</td>\n",
              "      <td>18.24</td>\n",
              "      <td>9.0</td>\n",
              "      <td>1.0</td>\n",
              "      <td>4341</td>\n",
              "      <td>10.3</td>\n",
              "      <td>w</td>\n",
              "      <td>0.0</td>\n",
              "      <td>0.0</td>\n",
              "      <td>Feb-2019</td>\n",
              "      <td>84.92</td>\n",
              "      <td>Individual</td>\n",
              "      <td>0.0</td>\n",
              "      <td>16901.0</td>\n",
              "      <td>1878.0</td>\n",
              "      <td>0.0</td>\n",
              "      <td>1.0</td>\n",
              "      <td>0.0</td>\n",
              "      <td>N</td>\n",
              "    </tr>\n",
              "    <tr>\n",
              "      <th>1</th>\n",
              "      <td>30000</td>\n",
              "      <td>30000</td>\n",
              "      <td>30000.0</td>\n",
              "      <td>60 months</td>\n",
              "      <td>18.94</td>\n",
              "      <td>777.23</td>\n",
              "      <td>D</td>\n",
              "      <td>D2</td>\n",
              "      <td>10+ years</td>\n",
              "      <td>MORTGAGE</td>\n",
              "      <td>90000.0</td>\n",
              "      <td>Source Verified</td>\n",
              "      <td>1</td>\n",
              "      <td>debt_consolidation</td>\n",
              "      <td>LA</td>\n",
              "      <td>26.52</td>\n",
              "      <td>13.0</td>\n",
              "      <td>1.0</td>\n",
              "      <td>12315</td>\n",
              "      <td>24.2</td>\n",
              "      <td>w</td>\n",
              "      <td>0.0</td>\n",
              "      <td>0.0</td>\n",
              "      <td>Feb-2019</td>\n",
              "      <td>777.23</td>\n",
              "      <td>Individual</td>\n",
              "      <td>1208.0</td>\n",
              "      <td>321915.0</td>\n",
              "      <td>24763.0</td>\n",
              "      <td>0.0</td>\n",
              "      <td>1.0</td>\n",
              "      <td>0.0</td>\n",
              "      <td>N</td>\n",
              "    </tr>\n",
              "    <tr>\n",
              "      <th>2</th>\n",
              "      <td>5000</td>\n",
              "      <td>5000</td>\n",
              "      <td>5000.0</td>\n",
              "      <td>36 months</td>\n",
              "      <td>17.97</td>\n",
              "      <td>180.69</td>\n",
              "      <td>D</td>\n",
              "      <td>D1</td>\n",
              "      <td>6 years</td>\n",
              "      <td>MORTGAGE</td>\n",
              "      <td>59280.0</td>\n",
              "      <td>Source Verified</td>\n",
              "      <td>1</td>\n",
              "      <td>debt_consolidation</td>\n",
              "      <td>MI</td>\n",
              "      <td>10.51</td>\n",
              "      <td>8.0</td>\n",
              "      <td>0.0</td>\n",
              "      <td>4599</td>\n",
              "      <td>19.1</td>\n",
              "      <td>w</td>\n",
              "      <td>0.0</td>\n",
              "      <td>0.0</td>\n",
              "      <td>Feb-2019</td>\n",
              "      <td>180.69</td>\n",
              "      <td>Individual</td>\n",
              "      <td>0.0</td>\n",
              "      <td>110299.0</td>\n",
              "      <td>18383.0</td>\n",
              "      <td>0.0</td>\n",
              "      <td>0.0</td>\n",
              "      <td>0.0</td>\n",
              "      <td>N</td>\n",
              "    </tr>\n",
              "    <tr>\n",
              "      <th>3</th>\n",
              "      <td>4000</td>\n",
              "      <td>4000</td>\n",
              "      <td>4000.0</td>\n",
              "      <td>36 months</td>\n",
              "      <td>18.94</td>\n",
              "      <td>146.51</td>\n",
              "      <td>D</td>\n",
              "      <td>D2</td>\n",
              "      <td>10+ years</td>\n",
              "      <td>MORTGAGE</td>\n",
              "      <td>92000.0</td>\n",
              "      <td>Source Verified</td>\n",
              "      <td>1</td>\n",
              "      <td>debt_consolidation</td>\n",
              "      <td>WA</td>\n",
              "      <td>16.74</td>\n",
              "      <td>10.0</td>\n",
              "      <td>0.0</td>\n",
              "      <td>5468</td>\n",
              "      <td>78.1</td>\n",
              "      <td>w</td>\n",
              "      <td>0.0</td>\n",
              "      <td>0.0</td>\n",
              "      <td>Feb-2019</td>\n",
              "      <td>146.51</td>\n",
              "      <td>Individual</td>\n",
              "      <td>686.0</td>\n",
              "      <td>305049.0</td>\n",
              "      <td>30505.0</td>\n",
              "      <td>0.0</td>\n",
              "      <td>0.0</td>\n",
              "      <td>0.0</td>\n",
              "      <td>N</td>\n",
              "    </tr>\n",
              "    <tr>\n",
              "      <th>4</th>\n",
              "      <td>30000</td>\n",
              "      <td>30000</td>\n",
              "      <td>30000.0</td>\n",
              "      <td>60 months</td>\n",
              "      <td>16.14</td>\n",
              "      <td>731.78</td>\n",
              "      <td>C</td>\n",
              "      <td>C4</td>\n",
              "      <td>10+ years</td>\n",
              "      <td>MORTGAGE</td>\n",
              "      <td>57250.0</td>\n",
              "      <td>Not Verified</td>\n",
              "      <td>1</td>\n",
              "      <td>debt_consolidation</td>\n",
              "      <td>MD</td>\n",
              "      <td>26.35</td>\n",
              "      <td>12.0</td>\n",
              "      <td>0.0</td>\n",
              "      <td>829</td>\n",
              "      <td>3.6</td>\n",
              "      <td>w</td>\n",
              "      <td>0.0</td>\n",
              "      <td>0.0</td>\n",
              "      <td>Feb-2019</td>\n",
              "      <td>731.78</td>\n",
              "      <td>Individual</td>\n",
              "      <td>0.0</td>\n",
              "      <td>116007.0</td>\n",
              "      <td>9667.0</td>\n",
              "      <td>0.0</td>\n",
              "      <td>0.0</td>\n",
              "      <td>0.0</td>\n",
              "      <td>N</td>\n",
              "    </tr>\n",
              "  </tbody>\n",
              "</table>\n",
              "</div>"
            ],
            "text/plain": [
              "   loan_amnt  funded_amnt  ...  tax_liens debt_settlement_flag\n",
              "0       2500         2500  ...        0.0                    N\n",
              "1      30000        30000  ...        0.0                    N\n",
              "2       5000         5000  ...        0.0                    N\n",
              "3       4000         4000  ...        0.0                    N\n",
              "4      30000        30000  ...        0.0                    N\n",
              "\n",
              "[5 rows x 33 columns]"
            ]
          },
          "metadata": {
            "tags": []
          },
          "execution_count": 6
        }
      ]
    },
    {
      "cell_type": "markdown",
      "metadata": {
        "id": "TiBF8bxD4W0Y",
        "colab_type": "text"
      },
      "source": [
        "For simplicity, in this question, we select all columns that do not contain integer of float type of data. Then, one hot encoding is performed."
      ]
    },
    {
      "cell_type": "code",
      "metadata": {
        "id": "fYr-DCJQ4Zkq",
        "colab_type": "code",
        "colab": {}
      },
      "source": [
        "df_cat = df.select_dtypes(exclude=['int64', 'float64'])\n",
        "df = pd.get_dummies(df, df_cat.columns.values)"
      ],
      "execution_count": 0,
      "outputs": []
    },
    {
      "cell_type": "markdown",
      "metadata": {
        "id": "xNxdaQFR4b4h",
        "colab_type": "text"
      },
      "source": [
        "Select the `loan_status` column as the target column.  \n",
        "## **1. Feature Selection (30 pts)**  \n",
        "**1.1 (3 pts)** Perform [Min-Max Scaling](https://scikit-learn.org/stable/modules/generated/sklearn.preprocessing.MinMaxScaler.html) on the dataset. Continue to use the scaled dataset for Q1 and Q2 of this assignment.   \n",
        "**1.2 (5 pts)** Split the dataset into train and test set with 25% data in test set and print the total number of features. Use this dataset to create a `RandomForestClassifier(n_estimators=5, random_state=42)` model and print the [classification_report()](https://scikit-learn.org/stable/modules/generated/sklearn.metrics.classification_report.html) to show the precision, recall and F1 score based on the test set.  \n",
        "**1.3 (6 pts)** Use $\\chi^2$ test to select the top 100, 30 and 10 features using [SelectKBest](https://scikit-learn.org/stable/modules/feature_selection.html#univariate-feature-selection) module. Train a random forest model and print the [classification_report()](https://scikit-learn.org/stable/modules/generated/sklearn.metrics.classification_report.html) for each of the trained models.  \n",
        "**Note:** $\\chi^2$ test requires non-negative values only for all features. Since we have performed Min-Max scaling previously (where the default behavior is to scale features between 0 and 1, there should not be any problem performing this test.)   \n",
        "**1.4 (6 pts)** [Plot the ROC curves](https://github.com/justmarkham/scikit-learn-tips/blob/master/notebooks/21_plot_roc_curve.ipynb) for all of the 4 models.  \n",
        "**1.5 (8 pts)** Plot the feature importance for each of the 4 random forest models that you have trained to show the top 5 features. ([Get feature names after feature selection](https://stackoverflow.com/a/43765224), [Plot feature importance using Pandas and matplotlib](https://stackoverflow.com/a/51520906))  \n",
        "**1.6 (2 pts)** What do you observe from the ROC curves?"
      ]
    },
    {
      "cell_type": "markdown",
      "metadata": {
        "id": "J9RWV5KW4e8z",
        "colab_type": "text"
      },
      "source": [
        "# Question 2 (20 pts)\n",
        "Use Principal Component Analysis (PCA) to solve this problem.  \n",
        "**2.1 (3 pts)** Use [PCA](https://scikit-learn.org/stable/modules/generated/sklearn.decomposition.PCA.html) and reduce the dimension of the dataset to the following components: 100, 30, 10. (3 models)  \n",
        "**2.2 (6 pts)** Train Random Forest models (each using 5 decision trees (i.e. 5 estimators) for each of the reduced datasets and print the classification report similar to Q1. This will print the class-wise Precision, Recall and F1 score.  \n",
        "**2.3 (4 pts)** Plot the ROC curves similar to Q1 for all models (trained using dataset containing all dimensions and dataset containing reduced dimensions).  \n",
        "**2.4 (2 pts)** What do you observe from the ROC curves? Why do you think the classifiers based on PCA are doing worse than those based on feature selection?  \n",
        "**2.5 (5 pts)** Show the [scree plot](https://www.kindsonthegenius.com/2019/01/12/principal-components-analysispca-in-python-step-by-step/) for the first 10 components of your PCA."
      ]
    },
    {
      "cell_type": "markdown",
      "metadata": {
        "id": "8dsPyCV64h3r",
        "colab_type": "text"
      },
      "source": [
        "# Question 3 (20 pts)\n",
        "\n",
        "Use XGBoost to solve this problem.  \n",
        "**3.1 (2 pts)** Use χ2 test to select the top 30 features using SelectKBest module. (Same as 1.3) \\\\\n",
        "**3.2 (10 pts)** Train XGBoost models on the entire dataset and the reduced dataset (with 30 features) \\\\\n",
        "(a) Using trees (Model A) \\\\\n",
        "(b) Using linear regression (Model B) \\\\\n",
        "using XGBClassifier (https://xgboost.readthedocs.io/en/latest/python/python_api.html) and you can specify the weak classifiers to be used using ***booster*** parameter in the XGBClassifier() function. \\\\\n",
        "**3.3 (5 pts)** Plot the ROC curves similar to Q1 for all models (trained using dataset containing all dimensions and dataset containing reduced dimensions) for both models A and B.  \n",
        "**3.4 (3 pts)** Which model performs better (Model A or B) and why?"
      ]
    },
    {
      "cell_type": "code",
      "metadata": {
        "id": "b5oaQ-uc4m_U",
        "colab_type": "code",
        "colab": {}
      },
      "source": [
        ""
      ],
      "execution_count": 0,
      "outputs": []
    }
  ]
}